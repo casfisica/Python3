{
 "cells": [
  {
   "cell_type": "markdown",
   "metadata": {},
   "source": [
    "# Clases y Objetos en Python\n",
    "\n",
    "Python es un lenguaje orientado a objetos, luego la manera más útil de programar en python, es usar este paradigma.\n",
    "\n",
    "### Terminología\n",
    "Lo primero se debe de tener claro, es a que nos referimos cuando hablamos de , clase, objeto, herencia ...\n",
    "- __Clases               :__ Es el prototipo de un objeto, con la definición sus atributos y métodos.\n",
    "- __Atributos            :__ Son el conjunto de variables definidas para una clase de objetos (internos).\n",
    "- __Métodos              :__ Son el conjunto de funciones definidas para una clase de objetos (internos)\n",
    "- __Miembros de la Clase :__ Son tanto los métodos como los atributos.\n",
    "- __Herencia             :__ La transferencia de características de una clase a otra derivada de ella\n",
    "- __Instancia            :__ Se llama instancia un objeto creado a partir de una clase.\n",
    "- __Instanciación        :__ La creación de un objeto.\n",
    "- __Objeto               :__ Una estructura única que es definida por su clase, un objeto es el conjunto de atributos y métodos.\n",
    "- __Operador sobrecargado:__ Cuando se le asigna a un operador mas de una función.\n",
    "\n",
    "\n",
    "### Nota importante sobre los objetos en python\n",
    "\n",
    "Los objetos pueden tener un nombre, o varios (en diferentes estancias) y pueden estar ligados al mismo objeto (aliasing). con los ojetos inmutables como enteros, floats, strings y dentro de códigos sencillos no suele ser muy relevante (aunque digno de tener en cuenta en el diseño). En otros objetos (y códigos) más complejos, puede tener efectos importantes en el comportamiento general del código.\n",
    "\n",
    "__Ejemplo:__ Si pasamos una lista llamada `Lista_Compras` a una rutina llamada `PrintList()` que utiliza el método `pop()` sobre ls lista interna de la rutina llamada `List`, al final modificara el objeto `Lista_Compras` pues usando la terminología de C++, la lista `Lista_Compras` se pasó por referencia a la función `PrintList()`, luego la lista interna `List` es otro nombre para referirse a `Lista_Compras`\n"
   ]
  },
  {
   "cell_type": "code",
   "execution_count": 1,
   "metadata": {},
   "outputs": [],
   "source": [
    "def PrintList(_list):\n",
    "    \"\"\"Imprime la lista como una sucesión\"\"\"\n",
    "    for element in range(len(_list)):\n",
    "        print(_list.pop(),end=\" \")\n",
    "    print()"
   ]
  },
  {
   "cell_type": "code",
   "execution_count": 2,
   "metadata": {
    "tags": []
   },
   "outputs": [
    {
     "name": "stdout",
     "output_type": "stream",
     "text": [
      "Lista de compras antes de PrintList(): ['Aguacate', 'Piña', 'Mango', 'Cosas']\n",
      "Cosas Mango Piña Aguacate \n",
      "Lista de compras después de PrintList(): []\n"
     ]
    }
   ],
   "source": [
    "Lista_Compras = [\"Aguacate\", \"Piña\",\"Mango\",\"Cosas\"]\n",
    "print(f\"Lista de compras antes de PrintList(): {Lista_Compras}\")\n",
    "PrintList(Lista_Compras)\n",
    "print(f\"Lista de compras después de PrintList(): {Lista_Compras}\")"
   ]
  },
  {
   "cell_type": "markdown",
   "metadata": {},
   "source": [
    "## Creando Clases\n",
    "Para crear una clase, se utiliza la palabra reservada class, seguida del nombre de la clase y al final dos puntos(como todo en python)\n",
    "\n",
    "__Sintaxis:__ \n",
    ">```python\n",
    ">class Nombre_Clase:\n",
    ">        '''Documentación de la clase'''\n",
    ">        Componentes_de_la_clase\n",
    ">```\n",
    "\n",
    "__Ejemplo:__"
   ]
  },
  {
   "cell_type": "code",
   "execution_count": 3,
   "metadata": {},
   "outputs": [],
   "source": [
    "class Estudiante:\n",
    "   'Cosas comunes a todo estudiante'\n",
    "   Numero_Estudiantes = 0\n",
    "\n",
    "   def __init__(self, nombre, nivel):\n",
    "      self.nombre = nombre\n",
    "      self.nivel = nivel\n",
    "      Estudiante.Numero_Estudiantes += 1\n",
    "   \n",
    "   def  display_NE(self):\n",
    "     print ('Numero de estudiantes:', self.Numero_Estudiantes)\n",
    "\n",
    "   def display_Estudiante(self):\n",
    "      print ('Nombre:', self.nombre,  \", Nivel: \", self.nivel)"
   ]
  },
  {
   "cell_type": "markdown",
   "metadata": {},
   "source": [
    "En ésta clase se pueden ver ejemplos de atributos (Numero_Estudiantes, nombre, nivel), de variables de clase (Numero_Estudiantes) que son compartidas por todas las instancias de la clase, y de atributos de la clase (init, display_NE,display_Estudiante).\n",
    "\n",
    "__Notas:__ \n",
    "- El método `__init__` es especial y es llamado método _constructor_, y tiene como función la iniciación de los objetos, pertenecientes a la clase.\n",
    "- Todas los métodos deben de ser creados con una variable `self` como primera entrada, ésta variable no se usa cuando se llaman dichos métodos, pués llamada de forma intrínseca.\n",
    "- Note que el artributo `Numero_Estudiantes` no está atado al `self` y está declarado antes del constructor, estos atributos son generales a todas los objetos de la clase y son comunmente llamados atributos de clase.\n",
    "\n",
    "### Instanciando un Objeto\n",
    "Para crear una instancia de una clase, se llama el constructor. En este ejemplo se crean dos _objetos_ Estudiante, Camilo del nivel 10 y Alfredo del nivel 1\n"
   ]
  },
  {
   "cell_type": "code",
   "execution_count": 4,
   "metadata": {},
   "outputs": [],
   "source": [
    "#Creemos el primer objeto estudiante, llamado Camilo en el nivel 10.\n",
    "estu1=Estudiante(\"Camilo\",10)\n",
    "#Esto instancia un segundo objeto estudiante, llamado Alfredo en el nivel 1.\n",
    "estu2=Estudiante(\"Alfredo\",1)"
   ]
  },
  {
   "cell_type": "markdown",
   "metadata": {},
   "source": [
    "### Utilizando Atributos\n",
    "\n",
    "Se puede acceder a los atributos de los objetos de una clase, a través del operador punto \".\"\n"
   ]
  },
  {
   "cell_type": "code",
   "execution_count": 5,
   "metadata": {
    "tags": []
   },
   "outputs": [
    {
     "name": "stdout",
     "output_type": "stream",
     "text": [
      "Número de estudiantes:  2\n",
      "Número de estudiantes:  2\n",
      "Nombre: Camilo , Nivel:  10\n",
      "Nombre: Alfredo , Nivel:  1\n",
      "Numero de estudiantes: 2\n",
      "Numero de estudiantes: 2\n"
     ]
    }
   ],
   "source": [
    "#Se accede al atributo Numero_Estudiantes directamente usando el operador \".\" \n",
    "#note que el valor no depende del objeto, pues es u atributo de clase\n",
    "print(\"Número de estudiantes: \", estu1.Numero_Estudiantes)\n",
    "print(\"Número de estudiantes: \", estu2.Numero_Estudiantes)\n",
    "# Se accede a los atributos nombre y nivel a travéz del método display_Estudiante()\n",
    "estu1.display_Estudiante()\n",
    "estu2.display_Estudiante()\n",
    "# Se accede a el atributo Numero_Estudiantes a travéz del método display_NE()\n",
    "estu1.display_NE()\n",
    "estu2.display_NE()"
   ]
  },
  {
   "cell_type": "markdown",
   "metadata": {},
   "source": [
    "Es recomendable no dejar al garbage collector la liberación de la memoria de los objetos creados, lo que se suele hacer es adicionar un método _Destructor_ con el fin de que sea el encargado de eliminar el objeto.\n",
    "\n",
    "__Sintaxis:__\n",
    ">```\n",
    "> __del__(self):\n",
    ">   \"\"\"Documentación\"\"\"\n",
    ">   Cuerpo de la función \n",
    "```        \n",
    "__Ejemplo:__ "
   ]
  },
  {
   "cell_type": "code",
   "execution_count": 6,
   "metadata": {},
   "outputs": [],
   "source": [
    "class Punto:\n",
    "    \"\"\"Clase que contiene un punto geométrico\"\"\"\n",
    "    def __init__( self, x=0, y=0):\n",
    "        self.x = x\n",
    "        self.y = y\n",
    "    def __del__(self):\n",
    "        class_name = self.__class__.__name__\n",
    "        print (class_name, \"destruido\")"
   ]
  },
  {
   "cell_type": "code",
   "execution_count": 7,
   "metadata": {
    "tags": []
   },
   "outputs": [
    {
     "name": "stdout",
     "output_type": "stream",
     "text": [
      "Referencia punto 1: 140183244060848, referencia punto 2: 140183244060848\n",
      "Punto destruido\n"
     ]
    }
   ],
   "source": [
    "# Creo un objeto de la clase Punta y lo asigno a la variable pt1\n",
    "pt1 = Punto()\n",
    "pt2 = pt1\n",
    "# Ésto imprime las referencias del objeto únicas para cada objeto creado dentro de un móduo\n",
    "print (f\"Referencia punto 1: {id(pt1)}, referencia punto 2: {id(pt2)}\")\n",
    "#Destruyo el punto 1\n",
    "del pt1\n",
    "#Intento destruir el punto 2 (no debe de existir, pues es el mismo pt1 con diferente nombre)\n",
    "del pt2"
   ]
  },
  {
   "cell_type": "markdown",
   "metadata": {},
   "source": [
    "### Atributos por defecto\n",
    "Cada clase que se crea en python tiene los siguientes atributos\n",
    "- `__class__ ` : Contiene el nombre de la clase\n",
    "- `__module__` : Contiene el nombre del módulo del cual la clase fue cargada, si el valor es `__main__`, es porque se está corriendo desde el modo interactivo.\n",
    "- `__doc__`    : Documentación.\n",
    "- `__bases__`  : Una tupla que contiene(si hay) en orden de ocurrencia, las clases de las cuales hereda.\n",
    "- `__dict__`   : Diccionario, que contiene el espacio de atributos de la clase.\n",
    "\n",
    "__Ejemplo:__"
   ]
  },
  {
   "cell_type": "code",
   "execution_count": 8,
   "metadata": {
    "tags": []
   },
   "outputs": [
    {
     "name": "stdout",
     "output_type": "stream",
     "text": [
      "Estudiante.__doc__   : Cosas comunes a todo estudiante\n",
      "Estudiante.__class__  : <class '__main__.Estudiante'>\n",
      "Estudiante.__module__: __main__\n",
      "Estudiante.__dict__  : {'nombre': 'Camilo', 'nivel': 10}\n",
      "Estudiante.__dict__  : {'nombre': 'Alfredo', 'nivel': 1}\n"
     ]
    }
   ],
   "source": [
    "print (\"Estudiante.__doc__   :\", estu1.__doc__)\n",
    "print (\"Estudiante.__class__  :\", estu1.__class__)\n",
    "print (\"Estudiante.__module__:\", estu1.__module__)\n",
    "#print (\"Estudiante.__bases__ :\", estu1.__bases__)\n",
    "print (\"Estudiante.__dict__  :\", estu1.__dict__ )\n",
    "print (\"Estudiante.__dict__  :\", estu2.__dict__ )"
   ]
  },
  {
   "cell_type": "markdown",
   "metadata": {},
   "source": [
    "### Atributos Dinámicos\n",
    "\n",
    "Cuando se instancia un objeto, este solo cuenta con los atributos y métodos definidos por su clase (o clases de las que hereda, que más adelante veremos), pero en python es posible (pero no es recomendable) que en tiempo de ejecución se asignen otros atributos a dicho objeto.\n",
    "\n",
    "__Ejemplo:__ Sigiendo con el ejemplo de la clase estudiantes, se le asigna dinámicamente el atributo cursos a estu1 "
   ]
  },
  {
   "cell_type": "code",
   "execution_count": 9,
   "metadata": {
    "tags": []
   },
   "outputs": [
    {
     "name": "stdout",
     "output_type": "stream",
     "text": [
      "['Física Computacional', 'Atómica', 'Mecánica cuántica II']\n",
      "Estudiante.__dict__  : {'nombre': 'Camilo', 'nivel': 10, 'cursos': ['Física Computacional', 'Atómica', 'Mecánica cuántica II']}\n",
      "Estudiante.__dict__  : {'nombre': 'Alfredo', 'nivel': 1}\n"
     ]
    },
    {
     "ename": "AttributeError",
     "evalue": "'Estudiante' object has no attribute 'cursos'",
     "output_type": "error",
     "traceback": [
      "\u001b[0;31m---------------------------------------------------------------------------\u001b[0m",
      "\u001b[0;31mAttributeError\u001b[0m                            Traceback (most recent call last)",
      "\u001b[0;32m<ipython-input-9-b5ecf675e316>\u001b[0m in \u001b[0;36m<module>\u001b[0;34m\u001b[0m\n\u001b[1;32m      8\u001b[0m \u001b[0;31m#Si intento acceder al atributo cursos del objeto estu2, voy a tener un error,\u001b[0m\u001b[0;34m\u001b[0m\u001b[0;34m\u001b[0m\u001b[0;34m\u001b[0m\u001b[0m\n\u001b[1;32m      9\u001b[0m \u001b[0;31m#pues este objeto no posee dicho atributo\u001b[0m\u001b[0;34m\u001b[0m\u001b[0;34m\u001b[0m\u001b[0;34m\u001b[0m\u001b[0m\n\u001b[0;32m---> 10\u001b[0;31m \u001b[0mprint\u001b[0m\u001b[0;34m(\u001b[0m\u001b[0mestu2\u001b[0m\u001b[0;34m.\u001b[0m\u001b[0mcursos\u001b[0m\u001b[0;34m)\u001b[0m\u001b[0;34m\u001b[0m\u001b[0;34m\u001b[0m\u001b[0m\n\u001b[0m",
      "\u001b[0;31mAttributeError\u001b[0m: 'Estudiante' object has no attribute 'cursos'"
     ]
    }
   ],
   "source": [
    "#Asignamiento dinámico\n",
    "estu1.cursos = [\"Física Computacional\", \"Atómica\", \"Mecánica cuántica II\"]\n",
    "#Se accede a estos nuevos atributos con el operador \".\"\n",
    "print(estu1.cursos)\n",
    "#el contenido del objeto cambio respecto a el resto de los objetos de la clase\n",
    "print (\"Estudiante.__dict__  :\", estu1.__dict__)\n",
    "print (\"Estudiante.__dict__  :\", estu2.__dict__ )\n",
    "#Si intento acceder al atributo cursos del objeto estu2, voy a tener un error,\n",
    "#pues este objeto no posee dicho atributo\n",
    "print(estu2.cursos)"
   ]
  },
  {
   "cell_type": "markdown",
   "metadata": {},
   "source": [
    "### Herencia\n",
    "Una de las características mas relevantes de la Programación Orientada a Objetos (POO más conocida por las siglas en inglés OOP), es la capacidad de reutilizar código usando la herencia. Ésto se hace listando las clases de las que va a heredar en paréntesis luego del nombre y antes de los dos puntos.\n",
    "\n",
    "__Sintaxis:__\n",
    ">```\n",
    "> class Nombre_Clase_Derivada (Clase_Base):\n",
    ">   '''Documentaciión'''\n",
    ">   Cuerpo_Sub_Clase\n",
    ">```\n",
    "\n",
    "__Ejemplo:__ En el sigiente ejemplo tenemos la clase Poligono que nos ayuda a ilistrar no solo la herencia y también el paso de argumentos por defecto"
   ]
  },
  {
   "cell_type": "code",
   "execution_count": 10,
   "metadata": {},
   "outputs": [],
   "source": [
    "class Poligono:\n",
    "    \"\"\"Clase Poligono, resibe el número de lados del poligono, por defecto se asigna 3 lados\"\"\"\n",
    "    def __init__(self, _nlados=None):\n",
    "        '''\n",
    "        Constructor, inicializa la variable lados en el caso de que se pase el argumento\n",
    "        en el caso contrario, pasa el valor por defecto nlados=3. Inicializa cada lado en 0\n",
    "        '''\n",
    "        if _nlados == None : self._nlados=3\n",
    "        self.nlados = _nlados\n",
    "        #Inicializo la longitud de los lados en 0\n",
    "        self.longlados = [0 for i in range(self.nlados)]\n",
    "        print(\"Constructor de la clase Poligono\")\n",
    "\n",
    "    def SetLongLados(self, _nlado,_long):\n",
    "        '''Define _long como la longitud de el lado _nlado'''\n",
    "        self.longlados[_nlado] = _long\n",
    "\n",
    "    def PrintLongLados(self):\n",
    "        for i in range(self.nlados):\n",
    "            print(\"Lado: \",i+1,\"Tiene el tamaño = \",self.longlados[i])\n",
    "\n",
    "#Funcion deribada \n",
    "\n",
    "class Triangulo(Poligono):\n",
    "    \"\"\"La clase Triangulo es una clase derivada de la clase Poligono\"\"\"\n",
    "    def __init__(self):\n",
    "        '''Constructor de la clase Triangulo'''\n",
    "        #Se llama el constructor de poligono para poder inicializar los atributos de Poligono,\n",
    "        # esto, en general, no es obligatorio pero es una buena práctica.\n",
    "        #Puesto que un triángulo es un poligono de 3 lados inicializo Poligono con nlados=3\n",
    "        Poligono.__init__(self,3)\n",
    "        print(\"Constructor, de la clase Triangulo\")\n",
    "\n",
    "    def GetArea(self):\n",
    "        \"\"\"función tipo Get, para obtener el área del triángulo\"\"\"\n",
    "        #Asignar el \n",
    "        a, b, c = self.longlados #Esto es llamado desempaquetado (unpacking) \n",
    "        # Se calcula el semi-perimetro\n",
    "        s = (a + b + c) / 2\n",
    "        # y el area\n",
    "        area = (s*(s-a)*(s-b)*(s-c)) ** 0.5\n",
    "        #Otro forma de usar print, similar a C\n",
    "        print('Area del triángulo = %0.2f' %area)"
   ]
  },
  {
   "cell_type": "code",
   "execution_count": 11,
   "metadata": {
    "tags": []
   },
   "outputs": [
    {
     "name": "stdout",
     "output_type": "stream",
     "text": [
      "Constructor de la clase Poligono\n",
      "Constructor, de la clase Triangulo\n",
      "Area del triángulo = 0.43\n"
     ]
    }
   ],
   "source": [
    "#Creamos un objeto Triangulo\n",
    "#MUCHO CUIDADO con los parentesis de las clases derivadas, pues si no los ponen no incluyen la clase Superior\n",
    "ABC = Triangulo() \n",
    "#Longitud de sus lados (teniendo en cuenta que no cualquier valor es posible)\n",
    "ABC.SetLongLados(0,1)\n",
    "ABC.SetLongLados(1,1)\n",
    "ABC.SetLongLados(2,1)\n",
    "#Vemos el área \n",
    "ABC.GetArea()\n"
   ]
  },
  {
   "cell_type": "markdown",
   "metadata": {},
   "source": [
    "## Sobrecarga de Operadores y Métodos\n",
    "\n",
    "Cuando adquirimos la habilidad de crear nuestros propios objetos, bien sea desde cero o con herencia, hay que tener en cuenta que posiblemente muchos de los operadores y métodos que estamos acostumbrados a usar, pueden no funcionar bien sobre nuestros nuevos objetos.\n",
    "\n",
    "### Métodos de base que se pueden sobre cargados.\n",
    "Los métodos a continuación son métodos que existen en todas las clases de python por defecto, y pueden ser sobrecargados.\n",
    "\n",
    "1. `__init__( self [,args...] )` : Es el método constructor, y es lo primero que se ejecuta al instanciar una clase.\n",
    "2. `__del__( self )` : El método destructor, y siempre se ejecuta cuando se borra un objeto, o cuando es colectado por el garbage colector.\n",
    "3. `__cmp__( self )` : El método para comparar dos objetos.\n",
    "\n",
    "### Sobrecarga de Operadores\n",
    "Cuando se definen nuevos objetos, es normal que uno quiera utilizar los operadores que tienen una interpretación natural. Algunos de los operadores que podemos sobrecargar son la suma (+), la resta (-), multiplicación (*)\n",
    "\n",
    "- `__add__(self, other)` : Suma\n",
    "- `__sub__(self, other)` : Resta\n",
    "- `__mul__(self, other)` : Multiplicación.\n",
    "- `__getitem__(self,index)` : operador [].\n",
    "- `__eq__(self, other)` : operador ==.\n",
    "- `__ne__(self, other)` : operador !=.\n",
    "- `__lt__(self, other)` : operador < .\n",
    "- `__gt__(self, other)` : operador > .\n",
    "\n",
    "__Ejemplo:__ Clase Vector personalizada"
   ]
  },
  {
   "cell_type": "code",
   "execution_count": 12,
   "metadata": {},
   "outputs": [],
   "source": [
    "class Vector:\n",
    "    '''Es una clase vector de ejemplo'''\n",
    "    def __init__(self, x0=0,y0=0,z0=0):\n",
    "        self.x=x0\n",
    "        self.y=y0\n",
    "        self.z=z0\n",
    "        \n",
    "    def __add__(self,other):\n",
    "        '''Sobrecarga del operador suma'''\n",
    "        return Vector(self.x + other.x, self.y + other.y, self.z + other.z)\n",
    "           \n",
    "    def __sub__(self,other):        \n",
    "        '''Sobrecarga del operador resta'''\n",
    "        return Vector(self.x - other.x, self.y - other.y, self.z - other.z)\n",
    "    \n",
    "    def Print(self):\n",
    "        '''Imprime el vector'''\n",
    "        print(f\"[{self.x},{self.y},{self.z}]\")"
   ]
  },
  {
   "cell_type": "code",
   "execution_count": 13,
   "metadata": {},
   "outputs": [],
   "source": [
    "vec0 = Vector()"
   ]
  },
  {
   "cell_type": "code",
   "execution_count": 14,
   "metadata": {
    "tags": []
   },
   "outputs": [
    {
     "name": "stdout",
     "output_type": "stream",
     "text": [
      "vec1 = [1,1,1]\n",
      "vec2 = [2,2,2]\n",
      "vec1 + vec2 = [3,3,3]\n",
      "vec1 - vec2 = [-1,-1,-1]\n"
     ]
    }
   ],
   "source": [
    "#Creo dos instancias de Vector\n",
    "vec1 = Vector(1,1,1)\n",
    "vec2 = Vector(2,2,2)\n",
    "# Creo una tercera intancia(implisitamente) y le asigno la suma de los objetos vec1 y vec2\n",
    "vec3 = vec1 + vec2\n",
    "# Creo una cuarta intancia(implisitamente) y le asigno la resta de los objetos vec1 y vec2\n",
    "vec4 = vec1 - vec2\n",
    "\n",
    "print(f\"vec1 =\", end=\" \")\n",
    "vec1.Print()\n",
    "print(f\"vec2 =\", end=\" \")\n",
    "vec2.Print()\n",
    "print(\"vec1 + vec2 =\", end=\" \")\n",
    "vec3.Print()\n",
    "print(\"vec1 - vec2 =\", end=\" \")\n",
    "vec4.Print()"
   ]
  },
  {
   "cell_type": "markdown",
   "metadata": {
    "tags": []
   },
   "source": [
    "## Función `super()`\n",
    "\n",
    "La función `super()` se usa para reemplazar explísitamente la llamada al constructor de la clase base(ClaseBase.__init__(*arg, **kargs)). Esto hace que el nombre de la clase derivada no quede explísitamente escrito en la definición de la clase derivada. Esto si bien es confuso algunas veces (sobre todo cuando hay herencia multiple), crea un código fácil de actializar.\n",
    "\n",
    "There is a maintainability argument that can be made for super even in single inheritance. If for whatever reason your child class changes its inheritance pattern (i.e., parent class changes or there's a shift to multiple inheritance) then there's no need find and replace all the lingering references to ParentClass.method_name(); the use of super will allow all the changes to flow through with the change in the class statement."
   ]
  },
  {
   "cell_type": "code",
   "execution_count": 35,
   "metadata": {},
   "outputs": [],
   "source": [
    "class Persona:\n",
    "    \"\"\"Clase persona\"\"\"\n",
    "    def __init__(self, _nombre,_edad,_sexo):\n",
    "        '''Constructor del objeto Empleo'''\n",
    "        self.nombre = _nombre\n",
    "        self.edad = _edad\n",
    "        self.sexo = _sexo\n",
    "        print(\"Constructor Persona\")\n",
    "\n",
    "    def Tarea(self):\n",
    "        '''Tareas de la Persona'''\n",
    "        if \"lin\" in self.sexo : print(f\"{self.nombre} es un hombre de {self.edad} que vive felíz :)\")\n",
    "        if \"nin\" in self.sexo : print(f\"{self.nombre} es una mujer de {self.edad} que vive felíz :)\")\n",
    "        if \"tr\" in self.sexo : print(f\"{self.nombre} es una persona de {self.edad} que vive felíz :)\")\n",
    "\n",
    "class Empleado(Persona):\n",
    "    \"\"\"Clase Empleado derivada de persona\"\"\"\n",
    "    def __init__(self, _nombre, _edad, _sexo, _titulo):\n",
    "        super().__init__(_nombre, _edad, _sexo)\n",
    "        #Persona.__init__(self,_nombre, _edad, _sexo)\n",
    "        self.titulo = _titulo\n",
    "        print(\"Constructor Empleado\")\n",
    "\n",
    "    def Trabajar(self):\n",
    "        '''Tareas del trabajador'''\n",
    "        if \"lin\" in self.sexo : print(f\"{self.nombre} es un {self.titulo} que trabaja como una mula :(\")\n",
    "        if \"nin\" in self.sexo : print(f\"{self.nombre} es una {self.titulo} que trabaja como una mula :(\")\n",
    "        if \"tr\" in self.sexo : print(f\"{self.nombre} es un@ {self.titulo} que trabaja como una mula :(\")\n",
    "        \n",
    "       "
   ]
  },
  {
   "cell_type": "code",
   "execution_count": 36,
   "metadata": {
    "tags": []
   },
   "outputs": [
    {
     "name": "stdout",
     "output_type": "stream",
     "text": [
      "Constructor Persona\n",
      "Constructor Persona\n",
      "Constructor Persona\n",
      "Constructor Empleado\n",
      "Constructor Persona\n",
      "Constructor Empleado\n"
     ]
    }
   ],
   "source": [
    "#Creo (instancio) dos objetos persona\n",
    "persona1=Persona(\"Andres\",20,\"Masculino\")\n",
    "persona2=Persona(\"Andrea\",32,\"Femenino\")\n",
    "# Instancio dos objetos Empleado, note que primero llama el constructor de la clase base\n",
    "Trabajador1=Empleado(\"Andre\",44,\"otro\",\"Ingeniero\")\n",
    "Trabajador2=Empleado(\"Camilo\",36,\"masculino\",\"Físico\")"
   ]
  },
  {
   "cell_type": "code",
   "execution_count": 37,
   "metadata": {
    "tags": []
   },
   "outputs": [
    {
     "name": "stdout",
     "output_type": "stream",
     "text": [
      "Andres es un hombre de 20 que vive felíz :)\n",
      "Andrea es una mujer de 32 que vive felíz :)\n",
      "Andre es una persona de 44 que vive felíz :)\n",
      "Andre es un@ Ingeniero que trabaja como una mula :(\n",
      "Camilo es un hombre de 36 que vive felíz :)\n",
      "Camilo es un Físico que trabaja como una mula :(\n"
     ]
    }
   ],
   "source": [
    "# llamo el método de la clase persona en los dos objetos instanciados\n",
    "persona1.Tarea()\n",
    "persona2.Tarea()\n",
    "# Igual con los dos objetos de la clase Empleado, solo que estos tienen dos métodos,\n",
    "# uno propio de la clase base y el otro de la derivada\n",
    "Trabajador1.Tarea()\n",
    "Trabajador1.Trabajar()\n",
    "Trabajador2.Tarea()\n",
    "Trabajador2.Trabajar()"
   ]
  },
  {
   "cell_type": "markdown",
   "metadata": {},
   "source": [
    "__Nota:__ \n",
    "- Se usa la función `isintance(obj, clase)` para verificar si el objeto `obj` es del tipo `class`.\n",
    "- En el caso de una herencia se puede usar `issubclass(SubClass,BaseClass)` para verificar si `SubClass` es una clase deribada de 'BaseClass'\n",
    "\n",
    "__Ejemplo:__"
   ]
  },
  {
   "cell_type": "code",
   "execution_count": 18,
   "metadata": {
    "tags": []
   },
   "outputs": [
    {
     "name": "stdout",
     "output_type": "stream",
     "text": [
      "Es un objeto de la clase\n"
     ]
    }
   ],
   "source": [
    "#isinstance devuelve True si es una instancia, y False si no\n",
    "def EsUnaInstancia(Objeto,Clase):\n",
    "    \"\"\"Función que dice si el Objeto pertenece a una clase o no\"\"\"\n",
    "    if isinstance(Objeto,Clase): \n",
    "        print(\"Es un objeto de la clase\")\n",
    "    else:\n",
    "        print(\"No es un objeto de la clase\")\n",
    "\n",
    "#Usamos la función EsUnaInstancia\n",
    "\n",
    "EsUnaInstancia(persona1,Persona)"
   ]
  },
  {
   "cell_type": "code",
   "execution_count": 19,
   "metadata": {
    "tags": []
   },
   "outputs": [
    {
     "name": "stdout",
     "output_type": "stream",
     "text": [
      "Es una sub-clase\n"
     ]
    }
   ],
   "source": [
    "# Similarmente para issubclass\n",
    "def EsUnaSubClase(SubClase,Clase):\n",
    "    \"\"\"Función que dice si el Clase es una sub-clase o no de la Clase\"\"\"\n",
    "    if issubclass(SubClase,Clase): \n",
    "        print(\"Es una sub-clase\")\n",
    "    else:\n",
    "        print(\"No es no es una sub-clase\")\n",
    "\n",
    "#usamos EsUnaSubClase\n",
    "EsUnaSubClase(Empleado,Persona)"
   ]
  },
  {
   "cell_type": "markdown",
   "metadata": {},
   "source": [
    "## Herencia Múltiple\n",
    "\n",
    "Python tiene una forma de herencia múltiple (si, hay más de una las veremos en C++). \n",
    "\n",
    "__Sintaxis:__\n",
    "\n",
    ">```\n",
    "> class Nombre_Clase_Derivada(Clase_Base-1 , Clase_Base-2,...):\n",
    ">   '''Documentaciión'''\n",
    ">   Cuerpo_Sub_Clase\n",
    ">```\n",
    "\n",
    "En orden de entender la forma menos compleja la búsqueda de los atributos heredados de clases bases de izquierda a derecha, sin repetir la misma clase cuando está dos veces en la jerarquía. Luego, si un atributo(método) no se encuentra en `Clase_Derivada`, se busca en Clase_Base-1 y después de manera recursiva en las clases base de `Clase_Base-1`, y sólo si no se encuentra allí se lo busca en `Clase_Base-2` y así sucesivamente.\n",
    "\n",
    "__Ejemplo:__ Creamos una nueva clase Familia y una nueva sub clase EmpleadoConFamilia, la cual hereda de Empleado (implisitamente de Persona) y de Familia."
   ]
  },
  {
   "cell_type": "code",
   "execution_count": 20,
   "metadata": {},
   "outputs": [],
   "source": [
    "class Familia:\n",
    "    \"\"\"Clase Familia\"\"\"\n",
    "    def __init__(self):\n",
    "        \"\"\"Constructor de la clase familia\"\"\"\n",
    "        self.Miembros={\n",
    "            \"Padre\"    : \"\",\n",
    "            \"Madre\"    : \"\",\n",
    "            \"Hermanos\" : [],\n",
    "            \"Hijos\"    : []\n",
    "        }\n",
    "        print(\"Constructor Familia\")\n",
    "\n",
    "    def SetFamiliar(self, Categoria, Name):\n",
    "        '''Llena el Json con los nombres de la familia, si no está el parentesco lo crea (de forma dinámica)'''\n",
    "        self.Miembros[Categoria]=Name\n",
    "\n",
    "    def PrintFamilia(self):\n",
    "        '''Muestra la familia'''\n",
    "        print(\"Familia:\")\n",
    "        for key, values in self.Miembros.items():\n",
    "            print(f\"        {key:5}\",end=\" : \")\n",
    "            if isinstance(values,list):\n",
    "                for items in values:\n",
    "                    print(items, end=\" \")\n",
    "                print(\"\")\n",
    "            else:\n",
    "                print(values)"
   ]
  },
  {
   "cell_type": "code",
   "execution_count": 21,
   "metadata": {
    "tags": []
   },
   "outputs": [
    {
     "name": "stdout",
     "output_type": "stream",
     "text": [
      "Constructor Familia\n",
      "Familia:\n",
      "        Padre : Diego\n",
      "        Madre : Adriana\n",
      "        Hermanos : Jorge Andres Martha \n",
      "        Hijos : Matias Zara \n"
     ]
    }
   ],
   "source": [
    "#Familia puede funcionar por si solo\n",
    "Salazar=Familia()\n",
    "Salazar.SetFamiliar(\"Padre\" ,\"Diego\")\n",
    "Salazar.SetFamiliar(\"Madre\" ,\"Adriana\")\n",
    "Salazar.SetFamiliar(\"Hermanos\" , [\"Jorge\",\"Andres\",\"Martha\"])\n",
    "Salazar.SetFamiliar(\"Hijos\" ,[\"Matias\", \"Zara\"])\n",
    "Salazar.PrintFamilia()"
   ]
  },
  {
   "cell_type": "code",
   "execution_count": 22,
   "metadata": {},
   "outputs": [],
   "source": [
    "#Clase EmpleadoConFamilia que hereda de Empleado y Familia\n",
    "class EmpleadoConFamilia(Empleado,Familia):\n",
    "    \"\"\"Clase EmpleadoConFamilia\"\"\"\n",
    "    def __init__(self, _nombre, _edad, _sexo, _titulo):\n",
    "        '''Constructor EmpleadoConFamilia'''\n",
    "        Empleado.__init__(self,_nombre, _edad, _sexo,  _titulo)\n",
    "        Familia.__init__(self)\n",
    "        print(\"constructor EmpleadoConFamilia\")"
   ]
  },
  {
   "cell_type": "code",
   "execution_count": 23,
   "metadata": {
    "tags": []
   },
   "outputs": [
    {
     "ename": "TypeError",
     "evalue": "__init__() missing 1 required positional argument: '_sexo'",
     "output_type": "error",
     "traceback": [
      "\u001b[0;31m---------------------------------------------------------------------------\u001b[0m",
      "\u001b[0;31mTypeError\u001b[0m                                 Traceback (most recent call last)",
      "\u001b[0;32m<ipython-input-23-e0474d9aa530>\u001b[0m in \u001b[0;36m<module>\u001b[0;34m\u001b[0m\n\u001b[1;32m      1\u001b[0m \u001b[0;31m#Instancio un Objeto de la clase Deribada EmpleadoConFamilia, note que llama a los constructores de las clases base,\u001b[0m\u001b[0;34m\u001b[0m\u001b[0;34m\u001b[0m\u001b[0;34m\u001b[0m\u001b[0m\n\u001b[1;32m      2\u001b[0m \u001b[0;31m# como a los constructores de las clses bases de estos (en este caso Personas es la clase base de Empleado).\u001b[0m\u001b[0;34m\u001b[0m\u001b[0;34m\u001b[0m\u001b[0;34m\u001b[0m\u001b[0m\n\u001b[0;32m----> 3\u001b[0;31m \u001b[0mEmpleadoYFamilia\u001b[0m \u001b[0;34m=\u001b[0m \u001b[0mEmpleadoConFamilia\u001b[0m\u001b[0;34m(\u001b[0m\u001b[0;34m\"Alberto\"\u001b[0m\u001b[0;34m,\u001b[0m\u001b[0;36m57\u001b[0m\u001b[0;34m,\u001b[0m\u001b[0;34m\"Masculino\"\u001b[0m\u001b[0;34m,\u001b[0m\u001b[0;34m\"Piloto\"\u001b[0m\u001b[0;34m)\u001b[0m\u001b[0;34m\u001b[0m\u001b[0;34m\u001b[0m\u001b[0m\n\u001b[0m\u001b[1;32m      4\u001b[0m \u001b[0;31m# Uso métodos únicos de esta clase\u001b[0m\u001b[0;34m\u001b[0m\u001b[0;34m\u001b[0m\u001b[0;34m\u001b[0m\u001b[0m\n\u001b[1;32m      5\u001b[0m \u001b[0mEmpleadoYFamilia\u001b[0m\u001b[0;34m.\u001b[0m\u001b[0mSetFamiliar\u001b[0m\u001b[0;34m(\u001b[0m\u001b[0;34m\"Padre\"\u001b[0m \u001b[0;34m,\u001b[0m\u001b[0;34m\"Humberto\"\u001b[0m\u001b[0;34m)\u001b[0m\u001b[0;34m\u001b[0m\u001b[0;34m\u001b[0m\u001b[0m\n",
      "\u001b[0;32m<ipython-input-22-bd53a1543aeb>\u001b[0m in \u001b[0;36m__init__\u001b[0;34m(self, _nombre, _edad, _sexo, _titulo)\u001b[0m\n\u001b[1;32m      4\u001b[0m     \u001b[0;32mdef\u001b[0m \u001b[0m__init__\u001b[0m\u001b[0;34m(\u001b[0m\u001b[0mself\u001b[0m\u001b[0;34m,\u001b[0m \u001b[0m_nombre\u001b[0m\u001b[0;34m,\u001b[0m \u001b[0m_edad\u001b[0m\u001b[0;34m,\u001b[0m \u001b[0m_sexo\u001b[0m\u001b[0;34m,\u001b[0m \u001b[0m_titulo\u001b[0m\u001b[0;34m)\u001b[0m\u001b[0;34m:\u001b[0m\u001b[0;34m\u001b[0m\u001b[0;34m\u001b[0m\u001b[0m\n\u001b[1;32m      5\u001b[0m         \u001b[0;34m'''Constructor EmpleadoConFamilia'''\u001b[0m\u001b[0;34m\u001b[0m\u001b[0;34m\u001b[0m\u001b[0m\n\u001b[0;32m----> 6\u001b[0;31m         \u001b[0mEmpleado\u001b[0m\u001b[0;34m.\u001b[0m\u001b[0m__init__\u001b[0m\u001b[0;34m(\u001b[0m\u001b[0mself\u001b[0m\u001b[0;34m,\u001b[0m\u001b[0m_nombre\u001b[0m\u001b[0;34m,\u001b[0m \u001b[0m_edad\u001b[0m\u001b[0;34m,\u001b[0m \u001b[0m_sexo\u001b[0m\u001b[0;34m,\u001b[0m  \u001b[0m_titulo\u001b[0m\u001b[0;34m)\u001b[0m\u001b[0;34m\u001b[0m\u001b[0;34m\u001b[0m\u001b[0m\n\u001b[0m\u001b[1;32m      7\u001b[0m         \u001b[0mFamilia\u001b[0m\u001b[0;34m.\u001b[0m\u001b[0m__init__\u001b[0m\u001b[0;34m(\u001b[0m\u001b[0mself\u001b[0m\u001b[0;34m)\u001b[0m\u001b[0;34m\u001b[0m\u001b[0;34m\u001b[0m\u001b[0m\n\u001b[1;32m      8\u001b[0m         \u001b[0mprint\u001b[0m\u001b[0;34m(\u001b[0m\u001b[0;34m\"constructor EmpleadoConFamilia\"\u001b[0m\u001b[0;34m)\u001b[0m\u001b[0;34m\u001b[0m\u001b[0;34m\u001b[0m\u001b[0m\n",
      "\u001b[0;32m<ipython-input-15-6138f4b9b311>\u001b[0m in \u001b[0;36m__init__\u001b[0;34m(self, _nombre, _edad, _sexo, _titulo)\u001b[0m\n\u001b[1;32m     18\u001b[0m     \u001b[0;32mdef\u001b[0m \u001b[0m__init__\u001b[0m\u001b[0;34m(\u001b[0m\u001b[0mself\u001b[0m\u001b[0;34m,\u001b[0m \u001b[0m_nombre\u001b[0m\u001b[0;34m,\u001b[0m \u001b[0m_edad\u001b[0m\u001b[0;34m,\u001b[0m \u001b[0m_sexo\u001b[0m\u001b[0;34m,\u001b[0m \u001b[0m_titulo\u001b[0m\u001b[0;34m)\u001b[0m\u001b[0;34m:\u001b[0m\u001b[0;34m\u001b[0m\u001b[0;34m\u001b[0m\u001b[0m\n\u001b[1;32m     19\u001b[0m         \u001b[0;31m#super().__init__(_nombre, _edad, _sexo)\u001b[0m\u001b[0;34m\u001b[0m\u001b[0;34m\u001b[0m\u001b[0;34m\u001b[0m\u001b[0m\n\u001b[0;32m---> 20\u001b[0;31m         \u001b[0mPersona\u001b[0m\u001b[0;34m.\u001b[0m\u001b[0m__init__\u001b[0m\u001b[0;34m(\u001b[0m\u001b[0m_nombre\u001b[0m\u001b[0;34m,\u001b[0m \u001b[0m_edad\u001b[0m\u001b[0;34m,\u001b[0m \u001b[0m_sexo\u001b[0m\u001b[0;34m)\u001b[0m\u001b[0;34m\u001b[0m\u001b[0;34m\u001b[0m\u001b[0m\n\u001b[0m\u001b[1;32m     21\u001b[0m         \u001b[0mself\u001b[0m\u001b[0;34m.\u001b[0m\u001b[0mtitulo\u001b[0m \u001b[0;34m=\u001b[0m \u001b[0m_titulo\u001b[0m\u001b[0;34m\u001b[0m\u001b[0;34m\u001b[0m\u001b[0m\n\u001b[1;32m     22\u001b[0m         \u001b[0mprint\u001b[0m\u001b[0;34m(\u001b[0m\u001b[0;34m\"Constructor Empleado\"\u001b[0m\u001b[0;34m)\u001b[0m\u001b[0;34m\u001b[0m\u001b[0;34m\u001b[0m\u001b[0m\n",
      "\u001b[0;31mTypeError\u001b[0m: __init__() missing 1 required positional argument: '_sexo'"
     ]
    }
   ],
   "source": [
    "#Instancio un Objeto de la clase Deribada EmpleadoConFamilia, note que llama a los constructores de las clases base, \n",
    "# como a los constructores de las clses bases de estos (en este caso Personas es la clase base de Empleado).\n",
    "EmpleadoYFamilia = EmpleadoConFamilia(\"Alberto\",57,\"Masculino\",\"Piloto\")\n",
    "# Uso métodos únicos de esta clase\n",
    "EmpleadoYFamilia.SetFamiliar(\"Padre\" ,\"Humberto\")\n",
    "EmpleadoYFamilia.SetFamiliar(\"Madre\" ,\"Martha\")\n",
    "EmpleadoYFamilia.SetFamiliar(\"Hermanos\" , [\"Paula\",\"Juan\",\"Santiago\"])\n",
    "EmpleadoYFamilia.SetFamiliar(\"Hijos\" ,[\"Josefina\", \"Martín\"])\n",
    "#También métodos de la clase Persona\n",
    "EmpleadoYFamilia.Tarea()\n",
    "EmpleadoYFamilia.Trabajar()\n",
    "EmpleadoYFamilia.PrintFamilia()"
   ]
  },
  {
   "cell_type": "markdown",
   "metadata": {},
   "source": [
    "# *args **kwargs\n",
    "\n",
    "*args and **kwargs allow you to pass multiple arguments or keyword arguments to a function. \n",
    "\n",
    "__Ejemplo:__ Usando `*args` podemos crear funciones que reciben un número ilimitado de argumentos posicionales (separados por coma)"
   ]
  },
  {
   "cell_type": "code",
   "execution_count": 24,
   "metadata": {},
   "outputs": [],
   "source": [
    "def Suma_Enteros(*args):\n",
    "    \"\"\"Suma de enteros\"\"\"\n",
    "    resultado = 0\n",
    "    for item in args:\n",
    "        resultado += item\n",
    "    return resultado"
   ]
  },
  {
   "cell_type": "code",
   "execution_count": 25,
   "metadata": {
    "tags": []
   },
   "outputs": [
    {
     "name": "stdout",
     "output_type": "stream",
     "text": [
      "45\n"
     ]
    }
   ],
   "source": [
    "#Salida de la función\n",
    "print(Suma_Enteros(1,2,3,4,5,6,7,8,9,0))"
   ]
  },
  {
   "cell_type": "markdown",
   "metadata": {},
   "source": [
    "__Nota importante:__ args y kwarg solo son nombres, lo importante son el operador `*` _desempaquetado_ (_unpacking_) luego se puede tener `*Variable`. Es bueno tener en cuenta que los elementos que resultan luego de usar el operador `*` son tuplas de python.\n",
    "\n",
    "El caso de **kwarg (también es solo un nombre) es muy similar a el de *args, solo que este en lugar de recibir argumentos posicionales, acepta valores nombrados (e.g  `var1=\"Valor1\", var2=\"Valor2\", ...`) "
   ]
  },
  {
   "cell_type": "code",
   "execution_count": 26,
   "metadata": {},
   "outputs": [],
   "source": [
    "def PrintFraces(**kwargs):\n",
    "    \"\"\"Funci[on para imprimir frases\"\"\"\n",
    "    Frase = \"\"\n",
    "    # kwargs es un diccionario\n",
    "    for arg in kwargs.values():\n",
    "        Frase += arg\n",
    "        Frase += \" \"\n",
    "    print(Frase)\n"
   ]
  },
  {
   "cell_type": "code",
   "execution_count": 27,
   "metadata": {
    "tags": []
   },
   "outputs": [
    {
     "name": "stdout",
     "output_type": "stream",
     "text": [
      "Camilo Andres es el profesor \n"
     ]
    }
   ],
   "source": [
    "#Utilizo la función\n",
    "PrintFraces(var1=\"Camilo\",var2=\"Andres\",var3=\"es el\",var4=\"profesor\")"
   ]
  },
  {
   "cell_type": "markdown",
   "metadata": {},
   "source": [
    "Como **kwargs es un diccionario se puede iterar tanto por los valores como por las nombres (keys)\n",
    "\n",
    "__Ejemplo:__ Utilicemos la clase Vector que creamos anteriormente, y escribamos una funcion para sumar muchos, aunuqe como sobrecargamos el operador suma, tecnicamente se podría simplemente a+b+c+..."
   ]
  },
  {
   "cell_type": "code",
   "execution_count": 28,
   "metadata": {},
   "outputs": [],
   "source": [
    "def SumaVector(**kwargs):\n",
    "    \"\"\"Suma de vectores, depende de la clase Vector\"\"\"\n",
    "    texto = \"\"\n",
    "    resultado = Vector(0,0,0)\n",
    "    for key,item in kwargs.items():\n",
    "        texto += str(key)+\"+\"\n",
    "        resultado += item\n",
    "        #lo que está al lado de la variable texto es una \n",
    "        # expresión regular, y pueden a llegar a ser muy utiles\n",
    "    print(f\"Resultado de sumar {texto[:-1]} = \",end=\"\")\n",
    "    #Uso el método Print de Vector\n",
    "    resultado.Print()"
   ]
  },
  {
   "cell_type": "code",
   "execution_count": 29,
   "metadata": {
    "tags": []
   },
   "outputs": [
    {
     "name": "stdout",
     "output_type": "stream",
     "text": [
      "Resultado de sumar a+b+c = [6,6,6]\n"
     ]
    }
   ],
   "source": [
    "#Creo los vectores\n",
    "v1=Vector(1,1,1) \n",
    "v2=Vector(2,2,2)\n",
    "v3=Vector(3,3,3)\n",
    "#ahora los sumo\n",
    "SumaVector(a=v1,b=v2,c=v3)"
   ]
  },
  {
   "cell_type": "markdown",
   "metadata": {},
   "source": [
    "### Orden de los argumentos\n",
    "\n",
    "Los argumentos *args y **kwargs deben de declarase de manera ordenada. Así como los argumentos por defecto van primero que los argomentos que no tienen valor por defecto (No lo había dicho). Los argumentos *args tienen que ir primero que los **kwargs\n",
    "\n",
    "__Sintaxis:__\n",
    "> Forma Correcta\n",
    ">```\n",
    "> def Funcion(a, b, *args, **kwargs):\n",
    ">   pass\n",
    "```\n",
    "\n",
    ">Forma Incorrecta\n",
    ">```\n",
    "> def Funcion(a, b, **kwargs,*args):\n",
    ">   pass\n",
    "```"
   ]
  },
  {
   "cell_type": "markdown",
   "metadata": {},
   "source": []
  }
 ],
 "metadata": {
  "kernelspec": {
   "display_name": "Python 3",
   "language": "python",
   "name": "python3"
  },
  "language_info": {
   "codemirror_mode": {
    "name": "ipython",
    "version": 3
   },
   "file_extension": ".py",
   "mimetype": "text/x-python",
   "name": "python",
   "nbconvert_exporter": "python",
   "pygments_lexer": "ipython3",
   "version": "3.8.6"
  }
 },
 "nbformat": 4,
 "nbformat_minor": 2
}
