{
 "metadata": {
  "language_info": {
   "codemirror_mode": {
    "name": "ipython",
    "version": 3
   },
   "file_extension": ".py",
   "mimetype": "text/x-python",
   "name": "python",
   "nbconvert_exporter": "python",
   "pygments_lexer": "ipython3",
   "version": "3.8.6-final"
  },
  "orig_nbformat": 2,
  "kernelspec": {
   "name": "Python 3.8.6 64-bit",
   "display_name": "Python 3.8.6 64-bit",
   "metadata": {
    "interpreter": {
     "hash": "916dbcbb3f70747c44a77c7bcd40155683ae19c65e1c03b4aa3499c5328201f1"
    }
   }
  }
 },
 "nbformat": 4,
 "nbformat_minor": 2,
 "cells": [
  {
   "source": [
    "# Python Basico\n",
    "\n",
    "## Listas\n",
    "\n",
    "Una lista es una colección de objetos.\n",
    "\n",
    "### Creación, indexado, \n"
   ],
   "cell_type": "markdown",
   "metadata": {}
  },
  {
   "cell_type": "code",
   "execution_count": 54,
   "metadata": {},
   "outputs": [
    {
     "output_type": "stream",
     "name": "stdout",
     "text": [
      "lista: \n['cero', 'una', 'dos', 'tres', 'cuatro', 'cinco', 'seis']\n\nLista usando un loop:\ncero una dos tres cuatro cinco seis \n\nLista usando el indice en reversa:\ncero una dos tres cuatro cinco seis \n\nLista usando el indice negativo:\ncero seis cinco cuatro tres dos una \n\nLista usando el indice con numerate:\ninice:0, item: cero\ninice:1, item: una\ninice:2, item: dos\ninice:3, item: tres\ninice:4, item: cuatro\ninice:5, item: cinco\ninice:6, item: seis\n\n\nLista usando rango de indice [2:4]:\n['dos', 'tres']\n\n\nLista usando rango indice [:4]:\n['cero', 'una', 'dos', 'tres']\n\n\nLista usando rango indice [3:]:\n['tres', 'cuatro', 'cinco', 'seis']\n\n\nLista usando rango indice [-4:-1]:\n['tres', 'cuatro', 'cinco']\n"
     ]
    }
   ],
   "source": [
    "# Se crea una lista usando la siguiente sintaxis\n",
    "ejemplo_lista = [\"cero\", \"una\", \"dos\", \"tres\", \"cuatro\", \"cinco\", \"seis\"]\n",
    "# Ver la lista\n",
    "print(f\"lista: \\n{ejemplo_lista}\")\n",
    "\n",
    "# Se puede recorer la lista usando un loop\n",
    "print(\"\\nLista usando un loop:\")\n",
    "for elemento in ejemplo_lista:\n",
    "    print(elemento,end=\" \")\n",
    "\n",
    "# Tambie se puede recorrer usando el indice\n",
    "print(\"\\n\\nLista usando el indice en reversa:\")\n",
    "for index in range(len(ejemplo_lista)):\n",
    "    #Orden\n",
    "    print(ejemplo_lista[index],end=\" \")\n",
    "\n",
    "# Tambie se puede recorrer usando el indice negativo\n",
    "print(\"\\n\\nLista usando el indice negativo:\")\n",
    "for index in range(len(ejemplo_lista)):\n",
    "    #Reverza\n",
    "    print(ejemplo_lista[-index],end=\" \")\n",
    "\n",
    "# Tambie se puede recorrer usando el indice con enumerate\n",
    "print(\"\\n\\nLista usando el indice con enumerate:\")\n",
    "for index, item in enumerate(ejemplo_lista):\n",
    "    print(f\"inice:{index}, item: {item}\")  \n",
    "\n",
    "#Rangos en la lista\n",
    "#[inicio:final]\n",
    "print(\"\\n\\nLista usando rango de indice [2:4]:\")\n",
    "print(ejemplo_lista[2:4])\n",
    "#[:final]\n",
    "print(\"\\n\\nLista usando rango indice [:4]:\")\n",
    "print(ejemplo_lista[:4])\n",
    "#[Inicial:]\n",
    "print(\"\\n\\nLista usando rango indice [3:]:\")\n",
    "print(ejemplo_lista[3:])\n",
    "#[-inicio:-final]\n",
    "print(\"\\n\\nLista usando rango indice [-4:-1]:\")\n",
    "print(ejemplo_lista[-4:-1])"
   ]
  },
  {
   "source": [
    "### Buscar, Agregar y Remover elementos\n",
    "\n",
    "- Se puede usar la combinación `if ... in` para buscar en una listaejemplo_lista\n",
    "- Agregar un elemento usando `append()`\n",
    "- y agregamos en un indice específico\n",
    "\n",
    "__Ejemplo 1:__"
   ],
   "cell_type": "markdown",
   "metadata": {}
  },
  {
   "cell_type": "code",
   "execution_count": 37,
   "metadata": {},
   "outputs": [
    {
     "output_type": "stream",
     "name": "stdout",
     "text": [
      "cuatro está\nsiete no está\nmenos uno no está\nLista: ['menos uno', 'cero', 'una', 'dos', 'tres', 'cuatro', 'cinco', 'seis', 'siete']\n"
     ]
    }
   ],
   "source": [
    "#Busco el elemento cuatro y siete\n",
    "if \"cuatro\" in ejemplo_lista:\n",
    "    print(\"cuatro está\")\n",
    "else:\n",
    "    print(\"cuatro no está\")\n",
    "    ejemplo_lista.append(\"cuatro\")\n",
    "if \"siete\" in ejemplo_lista:\n",
    "    print(\"siete está\")\n",
    "else:\n",
    "    print(\"siete no está\")\n",
    "    ejemplo_lista.append(\"siete\")\n",
    "if \"menos uno\" in ejemplo_lista:\n",
    "    print(\"menos uno está\")\n",
    "else:\n",
    "    print(\"menos uno no está\")\n",
    "    ejemplo_lista.insert(0,\"menos uno\")\n",
    "\n",
    "\n",
    "print(f\"Lista: {ejemplo_lista}\")"
   ]
  },
  {
   "source": [
    "Para remover elementos de una lista, \n",
    "- `remove()` para quitar un elemento específico. \n",
    "- `pop()` para eliminar por indice, además entrega el elemento eliminado.\n",
    "- `Clear()` Para limpiar la lista.\n",
    "\n",
    "__Ejemplo 2:__"
   ],
   "cell_type": "markdown",
   "metadata": {}
  },
  {
   "cell_type": "code",
   "execution_count": 35,
   "metadata": {},
   "outputs": [
    {
     "output_type": "error",
     "ename": "ValueError",
     "evalue": "list.remove(x): x not in list",
     "traceback": [
      "\u001b[0;31m---------------------------------------------------------------------------\u001b[0m",
      "\u001b[0;31mValueError\u001b[0m                                Traceback (most recent call last)",
      "\u001b[0;32m<ipython-input-35-c5ab1c20e846>\u001b[0m in \u001b[0;36m<module>\u001b[0;34m\u001b[0m\n\u001b[1;32m      1\u001b[0m \u001b[0;31m# Si se usa remove() o pop() y el elemeto no está, va a salir un error\u001b[0m\u001b[0;34m\u001b[0m\u001b[0;34m\u001b[0m\u001b[0;34m\u001b[0m\u001b[0m\n\u001b[0;32m----> 2\u001b[0;31m \u001b[0mejemplo_lista\u001b[0m\u001b[0;34m.\u001b[0m\u001b[0mremove\u001b[0m\u001b[0;34m(\u001b[0m\u001b[0;34m\"once\"\u001b[0m\u001b[0;34m)\u001b[0m\u001b[0;34m\u001b[0m\u001b[0;34m\u001b[0m\u001b[0m\n\u001b[0m\u001b[1;32m      3\u001b[0m \u001b[0mejemplo_lista\u001b[0m\u001b[0;34m.\u001b[0m\u001b[0mpop\u001b[0m\u001b[0;34m(\u001b[0m\u001b[0;36m10\u001b[0m\u001b[0;34m)\u001b[0m\u001b[0;34m\u001b[0m\u001b[0;34m\u001b[0m\u001b[0m\n",
      "\u001b[0;31mValueError\u001b[0m: list.remove(x): x not in list"
     ]
    }
   ],
   "source": [
    "# Si se usa remove() o pop() y el elemeto no está, va a salir un error \n",
    "ejemplo_lista.remove(\"once\")\n",
    "ejemplo_lista.pop(10)"
   ]
  },
  {
   "cell_type": "code",
   "execution_count": 39,
   "metadata": {},
   "outputs": [
    {
     "output_type": "stream",
     "name": "stdout",
     "text": [
      "siete no está\nmenos uno no está\nLista: []\n"
     ]
    }
   ],
   "source": [
    "# Elimino los que acabo crear\n",
    "if \"siete\" in ejemplo_lista:\n",
    "    print(\"Elimino siete\")\n",
    "    ejemplo_lista.remove(\"siete\")\n",
    "else:\n",
    "    print(\"siete no está\")\n",
    "    \n",
    "if \"menos uno\" in ejemplo_lista:\n",
    "    elemento_eliminado = ejemplo_lista.pop(0)\n",
    "    print(f\"Elimino {elemento_eliminado}\")\n",
    "else:\n",
    "    print(\"menos uno no está\")\n",
    "\n",
    "ejemplo_lista.clear()\n",
    "print(f\"Lista: {ejemplo_lista}\")"
   ]
  },
  {
   "source": [
    "### List Comprehensions\n",
    "Las listas por comprensión proporcionan una forma concisa de crear listas.\n",
    "\n",
    "Consiste en corchetes que contienen una expresión seguida de un `for`, luego cero o más expresiones `for` o `if`. Las expresiones pueden ser cualquier cosa, lo que significa que puedes poner todo tipo de objetos en listas. El resultado será una nueva lista resultante de evaluar la expresión en el contexto de las cláusulas `for` y `if` que le siguen.\n",
    "\n",
    "__Ejemplos:__ "
   ],
   "cell_type": "markdown",
   "metadata": {}
  },
  {
   "cell_type": "code",
   "execution_count": 43,
   "metadata": {},
   "outputs": [
    {
     "output_type": "stream",
     "name": "stdout",
     "text": [
      "Lista x: [0, 1, 2, 3, 4, 5, 6, 7, 8, 9]\n\nLista x2: [0, 1, 4, 9, 16, 25, 36, 49, 64, 81]\n\nLista 3*x^2: [0, 3, 12, 27, 48, 75, 108, 147, 192, 243]\n\nLista inpar: [3, 27, 75, 147, 243]\n"
     ]
    }
   ],
   "source": [
    "#Creamos una lista nueva \n",
    "x = [i for i in range(10)]\n",
    "print(f\"Lista x: {x}\")\n",
    "#Lista con una funcion\n",
    "x2 = [x**2 for x in range(10)]\n",
    "print(f\"\\nLista x2: {x2}\")\n",
    "#Lista usando otra lista\n",
    "x2Times3 = [item*3 for item in x2] \n",
    "print(f\"\\nLista 3*x^2: {x2Times3}\")\n",
    "# Usando condiciones\n",
    "Impar = [item*3 for item in x2 if item%2==1] \n",
    "print(f\"\\nLista Impar: {Impar}\")"
   ]
  },
  {
   "source": [
    "## Diccionarios\n",
    "Los diccionarios en Python son una lista de elementos que están desordenados y se pueden cambiar mediante el uso de métodos integrados. Los diccionarios se utilizan para crear un mapa de claves únicas de valores.\n",
    "\n",
    "### Crear, añadir/modificar, buscar y remover elementos\n",
    "\n",
    "- Los diccionarios se crean entre `{}`, se debe de espesificar la llave y el valor, separados por dos puntos `:`. Cada uno de estos pares clave/valor se separa del resto non comas.\n",
    "\n",
    "        dic = {\"clave1\":valor1, \"clave2\":valor2, ...}\n",
    "- Añadimos o modificamos el valor de un elemento del diccionario, usando el operador `[]`.\n",
    "\n",
    "        dic[\"clave_existente\"] = valor_modificado\n",
    "        dic[\"clave_nueva\"] = valor\n",
    "\n",
    "- Se busca un elemento usando `[]` o el método `get(clave,retorno)`\n",
    "\n",
    "        elemento = dic[clave]\n",
    "        elemento = dic.get(clave)\n",
    "\n",
    "__Ejemplos:__"
   ],
   "cell_type": "markdown",
   "metadata": {}
  },
  {
   "cell_type": "code",
   "execution_count": 52,
   "metadata": {},
   "outputs": [
    {
     "output_type": "stream",
     "name": "stdout",
     "text": [
      "Diccionario: {'clave1': 'valor1', 'clave2': 'valor2', 'clave3': 'valor3'}\n\nDiccionario: {'clave1': 'valor1.0', 'clave2': 'valor2', 'clave3': 'valor3', 'clave4': 'valor4.0'}\n\nDic.get(): valor2\n\nDic[]: valor2\n\nDic.get(): No Existe\n"
     ]
    },
    {
     "output_type": "error",
     "ename": "KeyError",
     "evalue": "'clave6'",
     "traceback": [
      "\u001b[0;31m---------------------------------------------------------------------------\u001b[0m",
      "\u001b[0;31mKeyError\u001b[0m                                  Traceback (most recent call last)",
      "\u001b[0;32m<ipython-input-52-4e90f6547494>\u001b[0m in \u001b[0;36m<module>\u001b[0;34m\u001b[0m\n\u001b[1;32m     15\u001b[0m \u001b[0;31m#Buscamos un elemento que no existe\u001b[0m\u001b[0;34m\u001b[0m\u001b[0;34m\u001b[0m\u001b[0;34m\u001b[0m\u001b[0m\n\u001b[1;32m     16\u001b[0m \u001b[0mprint\u001b[0m\u001b[0;34m(\u001b[0m\u001b[0;34mf\"\\nDic.get(): {ejem_dict.get('clave6','No Existe')}\"\u001b[0m\u001b[0;34m)\u001b[0m\u001b[0;34m\u001b[0m\u001b[0;34m\u001b[0m\u001b[0m\n\u001b[0;32m---> 17\u001b[0;31m \u001b[0mprint\u001b[0m\u001b[0;34m(\u001b[0m\u001b[0;34mf\"\\nDic[]: {ejem_dict['clave6']}\"\u001b[0m\u001b[0;34m)\u001b[0m\u001b[0;34m\u001b[0m\u001b[0;34m\u001b[0m\u001b[0m\n\u001b[0m",
      "\u001b[0;31mKeyError\u001b[0m: 'clave6'"
     ]
    }
   ],
   "source": [
    "#Se crea un diccionario\n",
    "ejem_dict = {\n",
    "            \"clave1\":\"valor1\", \n",
    "            \"clave2\":\"valor2\",\n",
    "            \"clave3\":\"valor3\"        \n",
    "            } \n",
    "print(f\"Diccionario: {ejem_dict}\")\n",
    "#Modificamos un elemento y creamos uno nuevo\n",
    "ejem_dict[\"clave1\"] = \"valor1.0\"\n",
    "ejem_dict[\"clave4\"] = \"valor4.0\"\n",
    "print(f\"\\nDiccionario: {ejem_dict}\")\n",
    "#Buscamos el elemento con [] y get\n",
    "print(f\"\\nDic.get(): {ejem_dict.get('clave2')}\")\n",
    "print(f\"\\nDic[]: {ejem_dict['clave2']}\")\n",
    "#Buscamos un elemento que no existe\n",
    "print(f\"\\nDic.get(): {ejem_dict.get('clave6','clave No Existe')}\")\n",
    "print(f\"\\nDic[]: {ejem_dict['clave6']}\")"
   ]
  },
  {
   "source": [
    "### Loops sobre diccionarios\n",
    "\n",
    "Existen varias fomas de recorrer los diccionarios, las más útiles:\n",
    "\n",
    "- `keys()`.\n",
    "- `items()`.\n",
    "\n",
    "__Ejemplos:__\n"
   ],
   "cell_type": "markdown",
   "metadata": {}
  },
  {
   "cell_type": "code",
   "execution_count": 62,
   "metadata": {},
   "outputs": [
    {
     "output_type": "stream",
     "name": "stdout",
     "text": [
      "Usando iterable\nllave: clave1, elemento: valor1.0\nllave: clave2, elemento: valor2\nllave: clave3, elemento: valor3\nllave: clave4, elemento: valor4.0\n\nUsando keys\nllave: clave1, elemento: valor1.0\nllave: clave2, elemento: valor2\nllave: clave3, elemento: valor3\nllave: clave4, elemento: valor4.0\n\nUsando items\nllave: clave1, elemento: valor1.0\nllave: clave2, elemento: valor2\nllave: clave3, elemento: valor3\nllave: clave4, elemento: valor4.0\n\nUsando sort\nelemento: clave1\nelemento: clave2\nelemento: clave3\nelemento: clave4\n"
     ]
    }
   ],
   "source": [
    "#recorro el dicc\n",
    "print(\"Usando iterable\")\n",
    "for key in ejem_dict:\n",
    "    print(f\"llave: {key}, elemento: {ejem_dict[key]}\")\n",
    "#recorro el dicc usando keys()\n",
    "print(\"\\nUsando keys\")\n",
    "for key in ejem_dict.keys():\n",
    "    print(f\"llave: {key}, elemento: {ejem_dict[key]}\")\n",
    "#recorro el dicc usando items()\n",
    "print(\"\\nUsando items\")\n",
    "for key, item in ejem_dict.items():\n",
    "    print(f\"llave: {key}, elemento: {item}\")"
   ]
  },
  {
   "source": [
    "### Dict comprehention\n",
    "\n",
    "La idea de comprehention no es exclusiva de las listas en Python. Los diccionarios, una de las estructuras de datos más utilizadas en la ciencia de datos, también pueden hacer comprehention. Con esto se pueden crear diccionarios fácilmente.\n",
    "\n",
    "Recuerde que, en Python, una lista se define con corchetes `[]` y un diccionario se define con llaves `{}`. La comprehention de diccionarios se define con una sintaxis similar, pero con un par clave: valor en la expresión.\n",
    "\n",
    "        {clave: valor for i in lista}"
   ],
   "cell_type": "markdown",
   "metadata": {}
  },
  {
   "cell_type": "code",
   "execution_count": 68,
   "metadata": {},
   "outputs": [
    {
     "output_type": "stream",
     "name": "stdout",
     "text": [
      "dicionario: {'clave_1': 1, 'clave_2': 2, 'clave_3': 3, 'clave_4': 4, 'clave_5': 5}\n\ndicionario: {'par_0.0': 0, 'par_1.0': 2, 'par_2.0': 4, 'par_3.0': 6, 'par_4.0': 8}\n"
     ]
    }
   ],
   "source": [
    "#Ejemplo 1\n",
    "comdic1 = {'clave_'+str(i):i for i in [1,2,3,4,5]}\n",
    "print(f\"dicionario: {comdic1}\")\n",
    "#Lista de claves\n",
    "comdic2 = {'par_'+str(i/2):i for i in range(10) if i%2!=1}\n",
    "print(f\"\\ndicionario: {comdic2}\")"
   ]
  },
  {
   "source": [
    "## Generators\n",
    "\n",
    "También son similares a las listas por comprensión. La única diferencia es que no asignan memoria para toda la lista, sino que generan un elemento a la vez, por lo que la memoria es más eficiente."
   ],
   "cell_type": "markdown",
   "metadata": {}
  },
  {
   "cell_type": "code",
   "execution_count": 74,
   "metadata": {},
   "outputs": [
    {
     "output_type": "stream",
     "name": "stdout",
     "text": [
      "tamaño generador:  112\ntamaño lista:  2888\n\nFor generador\n0, 3, 6, 9, 12, 15, 18, 21, 24, 27, \n\nFor lista\n0, 3, 6, 9, 12, 15, 18, 21, 24, 27, "
     ]
    }
   ],
   "source": [
    "import sys\n",
    "#creo el generador usando el generador range\n",
    "multiples_gen = (i for i in range(1000) if i % 3 == 0)\n",
    "#creamos una lista igual\n",
    "multiples_list = [i for i in range(1000) if i % 3 == 0]\n",
    "\n",
    "print(\"tamaño generador: \",sys.getsizeof(multiples_gen))\n",
    "print(\"tamaño lista: \",sys.getsizeof(multiples_list))\n",
    "\n",
    "print(\"\\nFor generador\")\n",
    "count = 0 \n",
    "for x in multiples_gen:\n",
    "    count +=1\n",
    "    if count>10: continue\n",
    "    print(x, end=\", \")\n",
    "\n",
    "print(\"\\n\\nFor lista\")\n",
    "count = 0 \n",
    "for x in multiples_list:\n",
    "    count +=1\n",
    "    if count>10: continue\n",
    "    print(x, end=\", \")"
   ]
  },
  {
   "cell_type": "markdown",
   "metadata": {},
   "source": [
    "\n",
    "## Funciones\n",
    "\n",
    "Una función es un bloque de código que se piensa de manera que se pueda reutilizar muchas veces mas. Las funciones son la base de la programación modular\n",
    "\n",
    "### Definir una función en Python 3\n",
    "\n",
    "- Se comienza por la palabra reservada def seguida por el nombre de la funcion y entre parentecis los argumentos (si tiene) separados por comas (si aplica).\n",
    "- La primera parte del bloque se sugiere que sea la ayuda de la función, entre comillas dobles. Esto es una descripción breve de que es lo que hace la función, y de los parámetros que recibe.\n",
    "- No se debe de olvidar la indentación y los dos puntos luego del nombre y los parámetros.\n",
    "- El argumento return sirve para retornar un valor al programa que llama a la función, y es opcional(return None).\n",
    "\n",
    "__Ejemplo:__\n"
   ]
  },
  {
   "cell_type": "code",
   "execution_count": 1,
   "metadata": {},
   "outputs": [],
   "source": [
    "def printstr( str ):\n",
    "   \"\"\"Imprime la cadena de caracteres que se le pase sin espacios\"\"\"\n",
    "   print(str.replace(\" \",\"\"))\n",
    "   return\n",
    "#Usando la funcion\n",
    "printstr(\"Hola Amigos Como Van?\")"
   ]
  },
  {
   "source": [
    "#### Lambda Function\n",
    "Otra opción es crear funciones Lambda. Estas son útiles para cosas cortas, pueden recibir cualquier número de argumentos, pero solo pueden tener una expresión, además pueden ser anónimas. Útiles para el modo interactivo, filtros (`filter`), mapas (`map`) y `reduce`\n",
    "\n",
    "__Ejemplo:__"
   ],
   "cell_type": "markdown",
   "metadata": {}
  },
  {
   "cell_type": "code",
   "execution_count": 4,
   "metadata": {},
   "outputs": [
    {
     "output_type": "stream",
     "name": "stdout",
     "text": [
      "Sum(5, 6, 2): 13\nDoble(11): 22\nTriple(11): 33\n"
     ]
    }
   ],
   "source": [
    "#Forma corta de la función\n",
    "Sum = lambda a, b, c : a + b + c\n",
    "# Uso de la funcion\n",
    "print(f\"Sum(5, 6, 2): {Sum(5, 6, 2)}\")\n",
    "\n",
    "#Se puede usar dentro de una funcion para crear funciones\n",
    "def Funcional(n):\n",
    "    \"\"\"\n",
    "    Funcion que recibe n como parametro y devuelve la funcion x^n\n",
    "    \"\"\"\n",
    "    return lambda x : x * n\n",
    "\n",
    "#Creo funcion doble y triple\n",
    "Doble = Funcional(2)\n",
    "Triple = Funcional(3)\n",
    "\n",
    "print(f\"Doble(11): {Doble(11)}\")\n",
    "print(f\"Triple(11): {Triple(11)}\")\n"
   ]
  },
  {
   "cell_type": "markdown",
   "metadata": {},
   "source": [
    "### Paso por referencia\n",
    "\n",
    "Todas las variables en python se pasan por referencia, luego si una variable se pone como argumento en una función, ésta podrá modificar el valor de dicha variable de manera interna.\n",
    "\n",
    "__Ejemplo:__"
   ]
  },
  {
   "cell_type": "code",
   "execution_count": 3,
   "metadata": {
    "tags": []
   },
   "outputs": [
    {
     "output_type": "stream",
     "name": "stdout",
     "text": "Valores fuera de la función  [10, 20, 30]\nValores dentro de la función:  [20, 40, 60]\nValores fuera de la función:  [20, 40, 60]\n"
    }
   ],
   "source": [
    "# Definición de la función\n",
    "def Duplica( lista ):\n",
    "   \"\"\"Función que duplica los valores de una lista dada\"\"\"\n",
    "   print (\"Valores fuera de la función \", lista)\n",
    "   for i in range(len(lista)):\n",
    "     lista[i]=2*lista[i]\n",
    "   print (\"Valores dentro de la función: \", lista)\n",
    "   return\n",
    "\n",
    "# Ahora se llama a la función Duplica \n",
    "mi_lista = [10,20,30]\n",
    "Duplica( mi_lista )\n",
    "print (\"Valores fuera de la función: \", mi_lista)"
   ]
  },
  {
   "cell_type": "markdown",
   "metadata": {},
   "source": [
    "### Argumentos de las funciones\n",
    "Se construir funciones con diferentes tipos de argumentos.\n",
    "\n",
    "1.  Argumentos obligatorios.\n",
    "2.  Argumentos keyword.\n",
    "3.  Argumentos por defecto.\n",
    "4.  Argumentos de longitud variable.\n",
    "\n",
    "#### Argumentos obligatorios\n",
    "Son los argumentos que deben de ser pasados a la función en número y orden estricto, porque de otro modo saldrá un error de sintaxis.\n",
    "\n",
    "__Ejemplo:__"
   ]
  },
  {
   "cell_type": "code",
   "execution_count": 4,
   "metadata": {},
   "outputs": [],
   "source": [
    "def Cuenta( str ):\n",
    "    \"\"\"Cuenta el número de letras que tiene una cadena de caracteres y las imprime en orden\"\"\"\n",
    "\n",
    "    print (\"Tamaño: \",len(str))\n",
    "    n=1  \n",
    "    for i in str:\n",
    "        print(n,\": \",i)\n",
    "    return"
   ]
  },
  {
   "cell_type": "code",
   "execution_count": 5,
   "metadata": {},
   "outputs": [
    {
     "output_type": "error",
     "ename": "TypeError",
     "evalue": "Cuenta() missing 1 required positional argument: 'str'",
     "traceback": [
      "\u001b[0;31m---------------------------------------------------------------------------\u001b[0m",
      "\u001b[0;31mTypeError\u001b[0m                                 Traceback (most recent call last)",
      "\u001b[0;32m<ipython-input-5-bd3c0c7ff14d>\u001b[0m in \u001b[0;36m<module>\u001b[0;34m\u001b[0m\n\u001b[1;32m      1\u001b[0m \u001b[0;31m#Al ejecutar ésta función sin argumento se tiene un error\u001b[0m\u001b[0;34m\u001b[0m\u001b[0;34m\u001b[0m\u001b[0;34m\u001b[0m\u001b[0m\n\u001b[0;32m----> 2\u001b[0;31m \u001b[0mCuenta\u001b[0m\u001b[0;34m(\u001b[0m\u001b[0;34m)\u001b[0m\u001b[0;34m\u001b[0m\u001b[0;34m\u001b[0m\u001b[0m\n\u001b[0m",
      "\u001b[0;31mTypeError\u001b[0m: Cuenta() missing 1 required positional argument: 'str'"
     ]
    }
   ],
   "source": [
    "#Al ejecutar ésta función sin argumento se tiene un error\n",
    "Cuenta()"
   ]
  },
  {
   "cell_type": "code",
   "execution_count": 6,
   "metadata": {
    "tags": []
   },
   "outputs": [
    {
     "output_type": "stream",
     "name": "stdout",
     "text": "Tamaño:  6\n1 :  C\n1 :  a\n1 :  m\n1 :  i\n1 :  l\n1 :  o\n"
    }
   ],
   "source": [
    "#Al ejecutar ésta función con el argumento correcto\n",
    "Cuenta(\"Camilo\")"
   ]
  },
  {
   "cell_type": "markdown",
   "metadata": {},
   "source": [
    "#### Argumentos llave\n",
    "Estos argumentos están relacionados con la llamada de la función. Esto permite usar algunos de los argumentos, y ponerlos en orden diferente del de la definición.\n",
    "\n",
    "__Ejemplo:__"
   ]
  },
  {
   "cell_type": "code",
   "execution_count": 7,
   "metadata": {},
   "outputs": [],
   "source": [
    "# Definición de la función\n",
    "def printinfo(nombre, edad):\n",
    "   \"\"\"Imprime lo que se le pase\"\"\"\n",
    "   print(\"Nombre: \", nombre)\n",
    "   print(\"Age   : \", edad)\n",
    "   return;"
   ]
  },
  {
   "cell_type": "code",
   "execution_count": 8,
   "metadata": {
    "tags": []
   },
   "outputs": [
    {
     "output_type": "stream",
     "name": "stdout",
     "text": "Nombre:  camilo\nAge   :  32\n"
    }
   ],
   "source": [
    "# Se llama la función, con el orden de las entradas trocadas, pero bien identificadas con la llave.\n",
    "printinfo(edad=32, nombre=\"camilo\")"
   ]
  },
  {
   "cell_type": "markdown",
   "metadata": {},
   "source": [
    "#### Argumentos por defecto\n",
    "Son argumentos que tienen un valor asignado desde la definición de la función\n",
    "\n",
    "__Ejemplo:__\n"
   ]
  },
  {
   "cell_type": "code",
   "execution_count": 6,
   "metadata": {},
   "outputs": [
    {
     "output_type": "stream",
     "name": "stdout",
     "text": [
      "\n Funcion con el último argumento\nNombre:  Andrea\nAge   :  22\nSexo  :  Femenino\n\n Funcion sin el último argumento\nNombre:  Camilo\nAge   :  36\nSexo  :  Masculino\n"
     ]
    }
   ],
   "source": [
    "# Definición de la función\n",
    "def printinfo2(nombre, edad, sexo = \"Masculino\"):\n",
    "    \"Imprime lo que se le pase\"\n",
    "    print (\"Nombre: \", nombre)\n",
    "    print (\"Age   : \", edad)\n",
    "    print (\"Sexo  : \", sexo)\n",
    "    return\n",
    "\n",
    "# Se llama la función con argumentos completos\n",
    "print(\"\\nFuncion con el último argumento\")\n",
    "printinfo2(\"Andrea\", 22, \"Femenino\")\n",
    "\n",
    "# Se llama la función sin el último argumento\n",
    "print(\"\\nFuncion sin el último argumento\")\n",
    "printinfo2(\"Camilo\", 36)"
   ]
  },
  {
   "cell_type": "markdown",
   "metadata": {},
   "source": [
    "#### Argumentos de longitud variable\n",
    "Hay ocasiones donde una función puede necesitar mas argumentos de los que se declaran en la definición.\n",
    "\n",
    "- `*args` se utiliza para enviar una lista de argumentos de longitud variable sin palabras clave a la función. \n",
    "\n",
    "__Ejemplo:__"
   ]
  },
  {
   "cell_type": "code",
   "execution_count": 8,
   "metadata": {},
   "outputs": [
    {
     "output_type": "stream",
     "name": "stdout",
     "text": [
      "Aqui se usa la función Suma con la cantidad \"normal\" de argumentos\nSuma(10, 12)= 22\n\n # Aqui se usa la función Suma con la cantidad \"extendida\" de argumentos\nSuma(70, 60, 50, 11, 200, 30)= 421\n"
     ]
    }
   ],
   "source": [
    "# Definición de la función\n",
    "def Suma( arg1=0, arg2=0 , *vartuple ):\n",
    "   \"Suma todas los argumentos\"\n",
    "   suma=arg1 + arg2\n",
    "   for var in vartuple:\n",
    "      suma=suma+var\n",
    "   return suma\n",
    "\n",
    "# Aqui se usa la función Suma con la cantidad \"normal\" de argumentos\n",
    "print(\"Aqui se usa la función Suma con la cantidad \\\"normal\\\" de argumentos\")\n",
    "print(f\"Suma(10, 12)= {Suma(10, 12)}\")\n",
    "\n",
    "# Aqui se usa la función Suma con la cantidad \"extendida\" de argumentos\n",
    "print(\"\\n # Aqui se usa la función Suma con la cantidad \\\"extendida\\\" de argumentos\")\n",
    "print(f\"Suma(70, 60, 50, 11, 200, 30)= {Suma(70, 60, 50, 11, 200, 30)}\")\n"
   ]
  },
  {
   "source": [
    "- `**kwargs` permite pasar argumentos de longitud variable con palabras clave a una función. Se debe usar `**kwargs` si desea manejar argumentos con nombre en una función.\n",
    "\n",
    "__Ejemplos:__"
   ],
   "cell_type": "markdown",
   "metadata": {}
  },
  {
   "cell_type": "code",
   "execution_count": 10,
   "metadata": {},
   "outputs": [
    {
     "output_type": "stream",
     "name": "stdout",
     "text": [
      "nombre = Camilo\nedad = 35\n"
     ]
    },
    {
     "output_type": "execute_result",
     "data": {
      "text/plain": [
       "{'nombre': 'Camilo', 'edad': 35}"
      ]
     },
     "metadata": {},
     "execution_count": 10
    }
   ],
   "source": [
    "def Dict_Creator(**kwargs):\n",
    "    \"\"\"\n",
    "    Recibe llaves y valores, imprime claves y valores.\n",
    "    Entrega un dictionario con las claves y valores\"\"\"\n",
    "    dic = {}\n",
    "    for key, value in kwargs.items():\n",
    "        dic[key] = value\n",
    "        print(\"{0} = {1}\".format(key, value))\n",
    "    return dic\n",
    "\n",
    "#Usamos la funcion\n",
    "Dict_Creator(nombre=\"Camilo\", edad=35)"
   ]
  },
  {
   "cell_type": "markdown",
   "metadata": {},
   "source": [
    "### Alcance (scope) de las variables\n",
    "No todas las variables pueden utilizar (leer, escribir), desde cualquier punto del programa. El alcance de las variables es desde donde o en donde es accesible por el programa, y depende de en que punto de éste fue declarada.\n",
    "Dependiendo del alcance se puede clasificar las variables (de python) en dos tipos:\n",
    "- Globales: Son las que se pueden ver en el cuerpo del programa o script.\n",
    "- Locales:Son las variables definidas dentro de una función, y a menos que se especifique lo contrario, no pueden ser vistas (leída o escrita) desde fuera de dicha función\n",
    "\n",
    "__Ejemplo:__"
   ]
  },
  {
   "cell_type": "code",
   "execution_count": 15,
   "metadata": {},
   "outputs": [],
   "source": [
    "# Definición de la función\n",
    "def sum( arg1, arg2 ):\n",
    "   # Suma los argumentos arg1 y arg2, imprime el valor de total(local), y entrega total.\"\n",
    "   total = arg1 + arg2 + Mi_Variable\n",
    "   print(\"Mi_Variable = \", Mi_Variable)\n",
    "   print (\"Total Local = \", total)\n",
    "   return total"
   ]
  },
  {
   "cell_type": "code",
   "execution_count": 16,
   "metadata": {},
   "outputs": [],
   "source": [
    "#Si defino la variable en el cuerpo del módulo (en el archivo .py o .ipynb en este caso), todas las funciones tienen acceso a ella. \n",
    "Mi_Variable=4"
   ]
  },
  {
   "cell_type": "code",
   "execution_count": 17,
   "metadata": {
    "tags": []
   },
   "outputs": [
    {
     "output_type": "stream",
     "name": "stdout",
     "text": "Mi_Variable =  4\nTotal Local =  7\n"
    },
    {
     "output_type": "execute_result",
     "data": {
      "text/plain": "7"
     },
     "metadata": {},
     "execution_count": 17
    }
   ],
   "source": [
    "#La función puede acceder a Mi_Variable\n",
    "sum(1,2)"
   ]
  },
  {
   "cell_type": "code",
   "execution_count": 18,
   "metadata": {},
   "outputs": [
    {
     "output_type": "error",
     "ename": "NameError",
     "evalue": "name 'total' is not defined",
     "traceback": [
      "\u001b[0;31m---------------------------------------------------------------------------\u001b[0m",
      "\u001b[0;31mNameError\u001b[0m                                 Traceback (most recent call last)",
      "\u001b[0;32m<ipython-input-18-6ba3a1ee36c7>\u001b[0m in \u001b[0;36m<module>\u001b[0;34m\u001b[0m\n\u001b[1;32m      1\u001b[0m \u001b[0;31m# Pero desde fuera de la función no se puede acceder a la variable total\u001b[0m\u001b[0;34m\u001b[0m\u001b[0;34m\u001b[0m\u001b[0;34m\u001b[0m\u001b[0m\n\u001b[0;32m----> 2\u001b[0;31m \u001b[0mprint\u001b[0m\u001b[0;34m(\u001b[0m\u001b[0mtotal\u001b[0m\u001b[0;34m)\u001b[0m\u001b[0;34m\u001b[0m\u001b[0;34m\u001b[0m\u001b[0m\n\u001b[0m",
      "\u001b[0;31mNameError\u001b[0m: name 'total' is not defined"
     ]
    }
   ],
   "source": [
    "# Pero desde fuera de la función no se puede acceder a la variable total\n",
    "print(total)"
   ]
  },
  {
   "cell_type": "markdown",
   "metadata": {},
   "source": [
    "## Módulos\n",
    "Un modulo es un archivo que contiene variables, funciones, clases, objetos e incluso programas principales, que permiten organizar el código de un programa de una manera más inteligible.\n",
    "\n",
    "__Ejemplo:__ En un archivo llamado new_func.py, está la siguiente definición de función\n",
    "\n",
    "```python\n",
    "def Multi( arg1=0, arg2=0 , *vartuple ):\n",
    "   \"Multiplica todos los argumentos\"\n",
    "   produc=arg1*arg2\n",
    " \n",
    "   for var in vartuple:\n",
    "      produc=produc*var\n",
    "   return produc\n",
    "\n",
    "```"
   ]
  },
  {
   "cell_type": "markdown",
   "metadata": {},
   "source": [
    "### La palabra reservada import\n",
    "\n",
    "Se puede usar cualquier código hecho en python como módulo, haciendo un import desde otro código, script o programa en pyton. esto es import modulo.\n",
    "\n",
    "Cuando el interprete se encuentra la palabra import, importa dicho modulo o módulos desde los directorios de búsqueda por defecto.\n",
    "\n",
    "__Ejemplo:__ Si se tiene el archivo new_func.py donde está definida la función Multi, esta se puede importar desde otro script, para ser usada\n"
   ]
  },
  {
   "cell_type": "code",
   "execution_count": 19,
   "metadata": {},
   "outputs": [
    {
     "output_type": "execute_result",
     "data": {
      "text/plain": "720"
     },
     "metadata": {},
     "execution_count": 19
    }
   ],
   "source": [
    "# Se importa el modulo new_func\n",
    "import new_func\n",
    "\n",
    "# Ahora se puede usar el código dentro de ese módulo en el nuevo programa\n",
    "new_func.Multi(2,3,4,5,6)"
   ]
  },
  {
   "cell_type": "markdown",
   "metadata": {},
   "source": [
    "### La palabra reservada from...import\n",
    "Esta expresión es usada cuando de determinado módulo solo se necesita algunas de los elementos que contiene.\n",
    "\n",
    "__Ejemplo:__ En el módulo new_func está la función fibo, dicha función recibe un entero n, y entrega una lista con los números de la serie de Fibonacci menores que n.\n",
    "\n",
    "```\n",
    "def fib(n):\n",
    "    \"Recibe un entero n, y entrega una lista con los números de fibonacci menores que n\"\n",
    "    result = []\n",
    "    a, b = 0, 1\n",
    "    while b < n:\n",
    "        result.append(b)\n",
    "        a, b = b, a+b\n",
    "    return result\n",
    "```\n",
    "\n",
    "Si se quiere hacer un script que sume los números Fibonacci menores que el número 100, entonces:"
   ]
  },
  {
   "cell_type": "code",
   "execution_count": 20,
   "metadata": {
    "tags": []
   },
   "outputs": [
    {
     "output_type": "stream",
     "name": "stdout",
     "text": "la suma de los números de Fibonacci menores que 100 es: 232\n"
    }
   ],
   "source": [
    "from new_func import Fib#Se importa la función fib desde el modulo new_func\n",
    "serie=Fib(100)  #La variable serie se llena con la serie de fibonacci hasta antes de 100\n",
    "sum=0\n",
    "for i in serie:\n",
    "    sum=sum+i\n",
    "\n",
    "print('la suma de los números de Fibonacci menores que 100 es:',sum)"
   ]
  },
  {
   "cell_type": "markdown",
   "metadata": {
    "tags": []
   },
   "source": [
    "Hay que notar que al usar \"from...import\" no se importa ningún otro item (objeto, variable, función...) desde el módulo new_func, y también hay que tener en cuenta que la función \"Fib\" se llama directamente y no por medio del operador \".\"(punto).\n",
    "\n",
    "### La palabra reservada from...import*\n",
    "Otro uso de \"from...import\" es el de importar todos los elementos de determinado módulo. Si se usa de esta manera, todos los elementos del módulo se van a cargar al programa y se podrán llamar directamente.\n",
    "\n",
    "__Ejemplo:__ resescribiendo el código que resuelve el problema del ejemplo anterior es, usando las funciones que están en el módulo new_func:"
   ]
  },
  {
   "cell_type": "code",
   "execution_count": 21,
   "metadata": {
    "tags": []
   },
   "outputs": [
    {
     "output_type": "stream",
     "name": "stdout",
     "text": "la suma de los números de Fibonacci menores que 100 es: 232\n"
    }
   ],
   "source": [
    "#Importo el módulo\n",
    "from new_func import *\n",
    "Lista = Fib(100)   #Se le asigna a \"Lista\" una lista con los números de fibonacci menores que 100.\n",
    "SumaFibo = SumLis(Lista)   #Uso la función SumLis para sumar las componentes de la lista \"Lista\", y se las asigno a SumaFibo\n",
    "print(\"la suma de los números de Fibonacci menores que 100 es:\" , SumaFibo)"
   ]
  },
  {
   "cell_type": "markdown",
   "metadata": {},
   "source": [
    "### Ejecutar módulos como un script\n",
    "\n",
    "Si un código se ejecuta como un modulo, el nombre de este está disponible en la variable global __name__ . Pero si este se ejecuta directamente entonces ésta variable tendrá el valor ;<par>__name__ = \"__main__\"</par>. Así si se quiere que el módulo ejecute algunas acciones al ser llamado como script, entonces se ponen dichas acciones después de un condicional.\n",
    "\n",
    "\n",
    "__Ejemplo:__ estas lineas en el módulo se ejcutan si se llama el script directamente \n",
    "```\n",
    "if __name__ == \"__main__\":\n",
    "    print(\"Módulo new_func como script\")\n",
    "```\n"
   ]
  },
  {
   "cell_type": "code",
   "execution_count": 22,
   "metadata": {
    "tags": []
   },
   "outputs": [
    {
     "output_type": "stream",
     "name": "stdout",
     "text": "Módulo new_func como script\n"
    }
   ],
   "source": [
    "#Correr new_func como script\n",
    "%run -i 'new_func.py'"
   ]
  },
  {
   "cell_type": "markdown",
   "metadata": {},
   "source": [
    "## Entrada, Salida y Archivos.\n",
    "Maneras en que el usuario interaccionar con el programa o script.\n",
    "\n",
    "### Mostrar texto en pantalla\n",
    "\n",
    "La manera mas sencilla de obtener una salida desde la pantalla, es por medio del comando print.\n",
    "\n",
    "__Ejemplos:__ Cuando se usa ```print()``` sin argumentos, se obtiene una nueva linea en blanco, pero tambien se puede usar el string que representa un salto de linea ```\"/n\"```\n"
   ]
  },
  {
   "cell_type": "code",
   "execution_count": 23,
   "metadata": {
    "tags": []
   },
   "outputs": [
    {
     "output_type": "stream",
     "name": "stdout",
     "text": "Abajo dos lineas en blando\n\n\nAbajo dos lineas en blando, usando '\\n'\n\n\nFin\n"
    }
   ],
   "source": [
    "print(\"Abajo dos lineas en blando\")\n",
    "print()\n",
    "print()\n",
    "print(\"Abajo dos lineas en blando, usando '\\\\n'\")\n",
    "print(\"\\n\")\n",
    "print(\"Fin\")"
   ]
  },
  {
   "cell_type": "markdown",
   "metadata": {
    "tags": []
   },
   "source": [
    "Tabien se pueden concatenar strings usando la funcion +.\n"
   ]
  },
  {
   "cell_type": "code",
   "execution_count": 24,
   "metadata": {
    "tags": []
   },
   "outputs": [
    {
     "output_type": "stream",
     "name": "stdout",
     "text": "Hola camilo\n"
    }
   ],
   "source": [
    "import os\n",
    "Saludo = \"Hola\" + \" \" + os.getlogin()\n",
    "print(Saludo)"
   ]
  },
  {
   "cell_type": "markdown",
   "metadata": {},
   "source": [
    "Para multiples entradas en ```print```, se puede modificar la separación entre ellos"
   ]
  },
  {
   "cell_type": "code",
   "execution_count": 25,
   "metadata": {
    "tags": []
   },
   "outputs": [
    {
     "output_type": "stream",
     "name": "stdout",
     "text": "/home/camilo/Clases/Ejemplos.py\n"
    }
   ],
   "source": [
    "print(\"\",\"home\", os.getlogin(), \"Clases\",\"Ejemplos.py\", sep=\"/\")"
   ]
  },
  {
   "cell_type": "markdown",
   "metadata": {},
   "source": [
    "Para modificar la trancisión entre prints se usa end=\"Opción\""
   ]
  },
  {
   "cell_type": "code",
   "execution_count": 26,
   "metadata": {
    "tags": []
   },
   "outputs": [
    {
     "output_type": "stream",
     "name": "stdout",
     "text": "Esta texto va en la primera linea, y ésta tambíen está en la primera linea. Aquí si hay salto\nSegunda linea\n"
    }
   ],
   "source": [
    "print('Esta texto va en la primera linea', end=', ') #Aquí la trancisión es una coma con espacio\n",
    "print('y ésta tambíen está en la primera linea', end='. ') #Aquí la trancisión es un punto con espacio\n",
    "print('Aquí si hay salto')\n",
    "print('Segunda linea')\n"
   ]
  },
  {
   "cell_type": "markdown",
   "metadata": {},
   "source": [
    "Formatted string literals (f-strings) se pueden usar junto con ```print``` para incluir valeres de variables dentro del string let you include the value of Python expressions inside a string by prefixing the string with f or F and writing expressions as {expression}."
   ]
  },
  {
   "cell_type": "code",
   "execution_count": 35,
   "metadata": {
    "tags": []
   },
   "outputs": [
    {
     "output_type": "stream",
     "name": "stdout",
     "text": "Esto es un f-string, que imprime el valor de Var = 3.142, con 3 números decimales\nEsto es un f-string, que imprime el valor de Var = 37.239, con 3 números decimales\nEsto es un f-string, que imprime el valor de Var = 76.287, con 3 números decimales\nEsto es un f-string, que imprime el valor de Var = 153.008, con 3 números decimales\nEsto es un f-string, que imprime el valor de Var = 305.794, con 3 números decimales\nEsto es un f-string, que imprime el valor de Var = 611.040, con 3 números decimales\nEsto es un f-string, que imprime el valor de Var = 1221.367, con 3 números decimales\nEsto es un f-string, que imprime el valor de Var = 2441.939, con 3 números decimales\nEsto es un f-string, que imprime el valor de Var = 4883.043, con 3 números decimales\nEsto es un f-string, que imprime el valor de Var = 9765.231, con 3 números decimales\n"
    }
   ],
   "source": [
    "Var = 3.1415\n",
    "for num in range(10):\n",
    "    print(f\"Esto es un f-string, que imprime el valor de Var = {Var:.3f}, con 3 números decimales\")\n",
    "    Var = (100/Var +2*Var -0.87612)"
   ]
  },
  {
   "cell_type": "markdown",
   "metadata": {},
   "source": [
    "## Leer desde el teclado\n",
    "Una característica muy útil de python, es que puede pedir al usuario que introduzca cierta información por medio del teclado. Python tiene un comando para leer datos desde la entrada estándar (casi siempre teclado). El comando input(), imprime la cadena de caracteres que se ponga dentro de los paréntesis, luego recibe datos desde la entrada estándar, y se los entrega (generalmente se asigna a una variable).\n",
    "\n",
    "> __Nota:__ Para la función input todo entra como cadenas de caracteres, luego si la entrada se va a usar como otra cosa (i.e. float, ent, etc.) se debe de debe de hacer una conversión o cast.\n",
    "\n",
    "__Ejemplo:__ "
   ]
  },
  {
   "cell_type": "code",
   "execution_count": 36,
   "metadata": {
    "tags": []
   },
   "outputs": [
    {
     "output_type": "stream",
     "name": "stdout",
     "text": "Gusto en conocerte  camilo\n"
    }
   ],
   "source": [
    "#Pregunto al usuario su nombre, y lo guardo en la variable Nom.\n",
    "#Esto puede que en algunos interpretes de notebooks no funcione, pero en scripts siempre\n",
    "Nom=input('¿Cual es tu nombre? ')\n",
    "#Utilizo la variable Nom\n",
    "print('Gusto en conocerte ',Nom)"
   ]
  },
  {
   "source": [
    "También se puede usar el método `split()` de la clase string para recibir varias entradas desde el teclado, separadas por el argumento de split (por defecto espacio)."
   ],
   "cell_type": "markdown",
   "metadata": {}
  },
  {
   "cell_type": "code",
   "execution_count": 12,
   "metadata": {},
   "outputs": [
    {
     "output_type": "stream",
     "name": "stdout",
     "text": [
      "Gusto en conocerte \ncamilo andres salazar "
     ]
    }
   ],
   "source": [
    "#Pregunto al usuario su nombre y apellido , y lo guardo en la variable Nom.\n",
    "NomApe=input('¿Cual es tu nombre y apellido? ').split()\n",
    "\n",
    "print('Gusto en conocerte ',end=\" \")\n",
    "for word in NomApe:\n",
    "    print(word,end=\" \")"
   ]
  },
  {
   "cell_type": "markdown",
   "metadata": {},
   "source": [
    "## Abrir y cerrar archivos\n",
    "\n",
    "Python maneja los archivos como objetos file, dichos objetos cuando son creados, se manipulan utilizando el operador \".\".\n",
    "\n",
    "### La función open\n",
    "Antes de realizar cualquier operación sobre un archivo, lo primero que se debe de hacer abrir dicho archivo. La función open crea un objeto tipo file, que se usa para llamar los métodos asociados a un archivo.\n",
    "\n",
    "__Sintaxis:__\n",
    "\n",
    " > `objecto_file = open(nombre_archivo [, modo_uso][, buffering])`\n",
    "\n",
    "- objecto_file: Nombre de la variable que va a guardar el objeto tipo file.\n",
    "- nombre_archivo: Nombre del archivo que se va a abrir.\n",
    "- modo_uso: Cual es el uso que se le va a dar a dicho archivo.\n",
    "> - __r__   : Abre el archivo en modo \"solo lectura\", situá el puntero al inicio del archivo\n",
    "> - __rb__  : Abre el archivo en modo \"solo lectura binaria\", situá el puntero al inicio del archivo\n",
    "> - __r+__  : Abre el archivo en modo \"lectura y escritura\", situá el puntero al inicio del archivo\n",
    "> - __rb+__ : Abre el archivo en modo \"lectura y escritura binario\", situá el puntero al inicio del archivo\n",
    "> - __w__   : Abre el archivo en modo \"solo escritura\", sobre escribe el archivo si existe, y sino crea uno nuevo\n",
    "> - __wb__  : Abre el archivo en modo \"solo escritura binario\", sobre escribe el archivo si existe, y sino crea uno nuevo\n",
    "> - __w+__  : Abre el archivo en modo \"lectura y escritura\", sobre escribe el archivo si existe, y sino crea uno nuevo\n",
    "> - __wb+__ : Abre el archivo en modo \"lectura y escritura binaria\", sobre escribe el archivo si existe, y sino crea uno nuevo\n",
    "> - __a__   : Abre el archivo en modo \"solo append\", situá el puntero al final del archivo, y sino existe crea uno nuevo\n",
    "> - __ab__  : Abre el archivo en modo \"solo append\", situá el puntero al final del archivo, y sino existe crea uno nuevo\n",
    "> - __a+__  : Abre el archivo en modo \"append Y lectura\", situá el puntero al final del archivo, y sino existe crea uno nuevo\n",
    "> - __ab+__ : Abre el archivo en modo \"append Y lectura binario\", situá el puntero al final del archivo, y sino existe crea uno nuevo\n",
    "- buffering: Uso de memoria temporal. Si se fija en 0 (cero) no hay buffering, si se pone en 1 (uno) se guarda de a una linea en la memoria temporal, mientras se accede al archivo. Para un entero mayor a uno, se lleva a cabo ese número de lineas de buffering, y para enteros negativos, el buffering se hace según el sistema (comportamiento por defecto.).\n",
    "\n",
    "#### Método `close()`\n",
    "El método `close()` de un objeto file, velca a memoria (flush) la información que no se ha escrito, y cierra el archivo. Luego de usar `close()` no se puede leer o escribir el archivo.\n",
    "\n",
    "_Ejemplo:__\n"
   ]
  },
  {
   "cell_type": "code",
   "execution_count": 46,
   "metadata": {
    "tags": []
   },
   "outputs": [
    {
     "output_type": "stream",
     "name": "stdout",
     "text": "Nombre del archivo:  resultados.txt\n¿Está cerrado?    :  False\nModo de apertura  :  wb\n¿Está cerrado?    :  True\n"
    }
   ],
   "source": [
    "# Abro el archivo resultados.txt, en modo escritura binario, y se lo asigno a la variable archivo1\n",
    "archivo1 = open(\"resultados.txt\", \"wb\")\n",
    "print(\"Nombre del archivo: \", archivo1.name)\n",
    "print(\"¿Está cerrado?    : \", archivo1.closed)\n",
    "print(\"Modo de apertura  : \", archivo1.mode)\n",
    "archivo1.close()\n",
    "print(\"¿Está cerrado?    : \", archivo1.closed)"
   ]
  },
  {
   "cell_type": "markdown",
   "metadata": {},
   "source": [
    "#### Método `write()`\n",
    "El método write() escribe cualquier cadena de caracteres en el archivo abierto. Las cadenas de caracteres en python no solo pueden guardar texto, también binarios.\n",
    "\n",
    "__Ejemplo:__ "
   ]
  },
  {
   "cell_type": "code",
   "execution_count": 47,
   "metadata": {
    "tags": []
   },
   "outputs": [
    {
     "output_type": "stream",
     "name": "stdout",
     "text": "Nombre del archivo:  resultados.txt\n¿Está cerrado? :  False\nModo de apertura :  w\n¿Está cerrado? :  True\n"
    }
   ],
   "source": [
    "#Pregunto al usuario su nombre, y lo guardo en la variable Nom.\n",
    "Nom=input('¿Cual es tu nombre? ')\n",
    "# Abro el archivo resultados.txt, en modo escritura, y se lo asigno a la variable archivo1\n",
    "archivo1 = open(\"resultados.txt\", \"w\")\n",
    "print (\"Nombre del archivo: \", archivo1.name)\n",
    "print (\"¿Está cerrado? : \", archivo1.closed)\n",
    "print (\"Modo de apertura : \", archivo1.mode)\n",
    "archivo1.write(\"Nombre\\n\") #Escribe la cadena de caracteres \"Nombre\", y \\n es un salto de linea\n",
    "archivo1.write(Nom) #Escribe la cadena de caracteres guardada en la variable Nom\n",
    "archivo1.write(\"\\n\") #Escribe un salto de linea\n",
    "archivo1.close()\n",
    "print (\"¿Está cerrado? : \", archivo1.closed)"
   ]
  },
  {
   "cell_type": "markdown",
   "metadata": {},
   "source": [
    "### Manejadores para archivos\n",
    "\n",
    "Aunque se tiene la opción de usar `open()` y `close()`, generalmente hay métodos más elaborados para leer y escribir archivos. \n",
    "\n",
    "A la hora de abrir y cerrar archivos, la forma ideal es usando Manejadores, que se hacen cargo del el manejo de memoria."
   ]
  },
  {
   "cell_type": "code",
   "execution_count": 43,
   "metadata": {
    "tags": []
   },
   "outputs": [
    {
     "output_type": "stream",
     "name": "stdout",
     "text": "0 Referencia, Color, Cantidad, TInicial, TFinal \n\n1 6, Blanco  ,91,0,11.78\n\n2 6, Blanco  ,91,11.78,23.56\n\n3 6, Blanco  ,91,23.56,35.34\n\n4 6, Blanco  ,91,35.34,47.12\n\n5 6, Blanco  ,91,47.12,58.9\n\n6 6, Blanco  ,91,58.9,70.68\n\n7 6, Blanco  ,91,70.68,82.46\n\n8 6, Blanco  ,91,82.46,94.24\n\n9 6, Blanco  ,91,94.24,106.02\n\n10 6, Blanco  ,91,106.02,117.8\n\n"
    }
   ],
   "source": [
    "with open('input.csv', 'r') as file_object:\n",
    "     for lnumber ,line in enumerate(file_object):\n",
    "         print(lnumber, line)\n",
    "         #Esta linea para el loop en la linea 11\n",
    "         if lnumber == 10: break"
   ]
  },
  {
   "cell_type": "markdown",
   "metadata": {},
   "source": [
    "# Trucos\n",
    "\n",
    "## Entorno Virtual\n",
    "\n",
    "### ¿Que es?\n",
    "\n",
    "Un entorno virtual es una herramienta que ayuda a mantener separadas las dependencias requeridas por diferentes proyectos mediante la creación de entornos virtuales de Python aislados para ellos. Esta es una de las herramientas más importantes que utilizan la mayoría de los desarrolladores de Python.\n",
    "\n",
    "### ¿Por qué necesitamos un entorno virtual?\n",
    "\n",
    "Imagina un escenario en el que estás trabajando en dos proyectos de Python basados ​​en la web y uno de ellos usa Django 1.9 y el otro usa Django 1.10 y así sucesivamente. En tales situaciones, el entorno virtual puede ser realmente útil para mantener las dependencias de ambos proyectos.\n",
    "\n",
    "### ¿Cuándo y dónde utilizar un entorno virtual?\n",
    "\n",
    "De forma predeterminada, todos los proyectos de su sistema utilizarán estos mismos directorios para almacenar y recuperar paquetes del sitio (bibliotecas de terceros). ¿Qué importa esto? Ahora, en el ejemplo anterior de dos proyectos, tiene dos versiones de Django. Este es un problema real para Python, ya que no puede diferenciar entre versiones en el directorio \"site-packages\". Por tanto, tanto la versión 1.9 como la 1.10 residirían en el mismo directorio con el mismo nombre. Aquí es donde entran en juego los entornos virtuales. Para resolver este problema, solo necesitamos crear dos entornos virtuales separados para ambos proyectos. Lo bueno de esto es que no hay límites para la cantidad de entornos que puede tener, ya que son solo directorios que contienen algunos scripts.\n",
    "\n",
    "- Para crear un entorno virtual\n",
    "\n",
    "        python3 -m venv /path/to/new/virtual/environment\n",
    "\n",
    "- Para inicializar el entorno virtual \n",
    "\n",
    "| Platform   | Shell             | Command to activate virtual environment |\n",
    "|:----------:|:-----------------:|-----------------------------------------|\n",
    "| POSIX      | bash/zsh          | $ source <venv>/bin/activate            |\n",
    "|            | fish              | $ source <venv>/bin/activate.fish       |\n",
    "|            | csh/tcsh          | $ source <venv>/bin/activate.csh        |\n",
    "|            | PowerShell Core   | $ <venv>/bin/Activate.ps1               |\n",
    "| Windows    | cmd.exe           | C:\\> <venv>\\Scripts\\activate.bat        |\n",
    "|            | PowerShell        | PS C:\\> <venv>\\Scripts\\Activate.ps1     |\n",
    "\n",
    "\n"
   ]
  },
  {
   "source": [],
   "cell_type": "markdown",
   "metadata": {}
  }
 ]
}